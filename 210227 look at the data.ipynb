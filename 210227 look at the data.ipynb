{
 "cells": [
  {
   "cell_type": "markdown",
   "metadata": {},
   "source": [
    "## import data"
   ]
  },
  {
   "cell_type": "code",
   "execution_count": 1,
   "metadata": {},
   "outputs": [],
   "source": [
    "import warnings\n",
    "warnings.filterwarnings(\"ignore\")\n",
    "import pandas as pd\n",
    "import numpy as np\n"
   ]
  },
  {
   "cell_type": "code",
   "execution_count": 2,
   "metadata": {},
   "outputs": [],
   "source": [
    "train = pd.read_csv(\"./data/train.csv\", sep=\"###__###\",header = None, encoding='utf-8')\n",
    "test = pd.read_csv(\"./data/test.csv\", sep=\"###__###\",header = None, encoding='utf-8')\n"
   ]
  },
  {
   "cell_type": "code",
   "execution_count": 3,
   "metadata": {},
   "outputs": [
    {
     "data": {
      "text/plain": [
       "(100000, 5)"
      ]
     },
     "execution_count": 3,
     "metadata": {},
     "output_type": "execute_result"
    }
   ],
   "source": [
    "train.shape"
   ]
  },
  {
   "cell_type": "code",
   "execution_count": 4,
   "metadata": {},
   "outputs": [
    {
     "data": {
      "text/plain": [
       "(100000, 2)"
      ]
     },
     "execution_count": 4,
     "metadata": {},
     "output_type": "execute_result"
    }
   ],
   "source": [
    "test.shape"
   ]
  },
  {
   "cell_type": "markdown",
   "metadata": {},
   "source": [
    "## look at the data"
   ]
  },
  {
   "cell_type": "code",
   "execution_count": 5,
   "metadata": {},
   "outputs": [
    {
     "data": {
      "text/html": [
       "<div>\n",
       "<style scoped>\n",
       "    .dataframe tbody tr th:only-of-type {\n",
       "        vertical-align: middle;\n",
       "    }\n",
       "\n",
       "    .dataframe tbody tr th {\n",
       "        vertical-align: top;\n",
       "    }\n",
       "\n",
       "    .dataframe thead th {\n",
       "        text-align: right;\n",
       "    }\n",
       "</style>\n",
       "<table border=\"1\" class=\"dataframe\">\n",
       "  <thead>\n",
       "    <tr style=\"text-align: right;\">\n",
       "      <th></th>\n",
       "      <th>ID</th>\n",
       "      <th>Age</th>\n",
       "      <th>Gender</th>\n",
       "      <th>Education</th>\n",
       "      <th>Query_List</th>\n",
       "    </tr>\n",
       "  </thead>\n",
       "  <tbody>\n",
       "    <tr>\n",
       "      <th>0</th>\n",
       "      <td>22DD920316420BE2DF8D6EE651BA174B</td>\n",
       "      <td>1</td>\n",
       "      <td>1</td>\n",
       "      <td>4</td>\n",
       "      <td>柔和双沟\\t女生\\t中财网首页 财经\\thttp://pan.baidu.com/s/1pl...</td>\n",
       "    </tr>\n",
       "    <tr>\n",
       "      <th>1</th>\n",
       "      <td>43CC3AF5A8D6430A3B572337A889AFE4</td>\n",
       "      <td>2</td>\n",
       "      <td>1</td>\n",
       "      <td>3</td>\n",
       "      <td>广州厨宝烤箱\\t世情薄,人情恶,雨送黄昏花易落,晓风干,泪痕\\t厦门酒店用品批发市场\\t我只...</td>\n",
       "    </tr>\n",
       "    <tr>\n",
       "      <th>2</th>\n",
       "      <td>E97654BFF5570E2CCD433EA6128EAC19</td>\n",
       "      <td>4</td>\n",
       "      <td>1</td>\n",
       "      <td>0</td>\n",
       "      <td>钻石之泪耳机\\t盘锦到沈阳\\t旅顺公交\\t辽宁阜新车牌\\tbaidu\\tk715\\tk716...</td>\n",
       "    </tr>\n",
       "    <tr>\n",
       "      <th>3</th>\n",
       "      <td>6931EFC26D229CCFCEA125D3F3C21E57</td>\n",
       "      <td>4</td>\n",
       "      <td>2</td>\n",
       "      <td>3</td>\n",
       "      <td>最受欢迎狗狗排行榜\\t舶怎么读\\t场景描 写范例\\t三维绘图软件\\t枣和酸奶能一起吃吗\\t好...</td>\n",
       "    </tr>\n",
       "    <tr>\n",
       "      <th>4</th>\n",
       "      <td>E780470C3BB0D340334BD08CDCC3C71A</td>\n",
       "      <td>2</td>\n",
       "      <td>2</td>\n",
       "      <td>4</td>\n",
       "      <td>干槽症能自愈吗\\t太太万岁叶舒心去没去美国\\t干槽症\\t右眼皮下面一直跳是怎么回事\\t麦当劳...</td>\n",
       "    </tr>\n",
       "  </tbody>\n",
       "</table>\n",
       "</div>"
      ],
      "text/plain": [
       "                                 ID  Age  Gender  Education  \\\n",
       "0  22DD920316420BE2DF8D6EE651BA174B    1       1          4   \n",
       "1  43CC3AF5A8D6430A3B572337A889AFE4    2       1          3   \n",
       "2  E97654BFF5570E2CCD433EA6128EAC19    4       1          0   \n",
       "3  6931EFC26D229CCFCEA125D3F3C21E57    4       2          3   \n",
       "4  E780470C3BB0D340334BD08CDCC3C71A    2       2          4   \n",
       "\n",
       "                                          Query_List  \n",
       "0  柔和双沟\\t女生\\t中财网首页 财经\\thttp://pan.baidu.com/s/1pl...  \n",
       "1  广州厨宝烤箱\\t世情薄,人情恶,雨送黄昏花易落,晓风干,泪痕\\t厦门酒店用品批发市场\\t我只...  \n",
       "2  钻石之泪耳机\\t盘锦到沈阳\\t旅顺公交\\t辽宁阜新车牌\\tbaidu\\tk715\\tk716...  \n",
       "3  最受欢迎狗狗排行榜\\t舶怎么读\\t场景描 写范例\\t三维绘图软件\\t枣和酸奶能一起吃吗\\t好...  \n",
       "4  干槽症能自愈吗\\t太太万岁叶舒心去没去美国\\t干槽症\\t右眼皮下面一直跳是怎么回事\\t麦当劳...  "
      ]
     },
     "execution_count": 5,
     "metadata": {},
     "output_type": "execute_result"
    }
   ],
   "source": [
    "train.columns = ['ID', 'Age', 'Gender', 'Education', 'Query_List']\n",
    "train.head()"
   ]
  },
  {
   "cell_type": "code",
   "execution_count": 6,
   "metadata": {},
   "outputs": [],
   "source": [
    "## Query_List 截断成为不同的Query\n",
    "train['Query_List_Break'] = train['Query_List'].apply(lambda query: query.split('\\t'))\n"
   ]
  },
  {
   "cell_type": "code",
   "execution_count": 7,
   "metadata": {},
   "outputs": [
    {
     "data": {
      "text/plain": [
       "count    100000.000000\n",
       "mean        142.730950\n",
       "std          66.919031\n",
       "min          49.000000\n",
       "25%         101.000000\n",
       "50%         121.000000\n",
       "75%         162.000000\n",
       "max         498.000000\n",
       "Name: Query_Num, dtype: float64"
      ]
     },
     "execution_count": 7,
     "metadata": {},
     "output_type": "execute_result"
    }
   ],
   "source": [
    "## 计算Query_List的个数，并查看统计学信息\n",
    "train['Query_Num'] = train['Query_List_Break'].apply(lambda query_list: len(query_list))\n",
    "train['Query_Num'].describe()"
   ]
  },
  {
   "cell_type": "code",
   "execution_count": 8,
   "metadata": {},
   "outputs": [
    {
     "data": {
      "text/plain": [
       "count    100000.000000\n",
       "mean          7.678838\n",
       "std           1.347665\n",
       "min           1.101010\n",
       "25%           6.846916\n",
       "50%           7.604697\n",
       "75%           8.407122\n",
       "max          45.340206\n",
       "Name: Query_Length_Mean, dtype: float64"
      ]
     },
     "execution_count": 8,
     "metadata": {},
     "output_type": "execute_result"
    }
   ],
   "source": [
    "## 计算Query长度的平均值，并查看统计学信息\n",
    "train['Query_Length_Mean'] = train['Query_List_Break'].apply(lambda query_list: np.mean([len(query) for query in query_list]))\n",
    "train['Query_Length_Mean'].describe()\n"
   ]
  },
  {
   "cell_type": "code",
   "execution_count": 9,
   "metadata": {},
   "outputs": [
    {
     "data": {
      "text/html": [
       "<div>\n",
       "<style scoped>\n",
       "    .dataframe tbody tr th:only-of-type {\n",
       "        vertical-align: middle;\n",
       "    }\n",
       "\n",
       "    .dataframe tbody tr th {\n",
       "        vertical-align: top;\n",
       "    }\n",
       "\n",
       "    .dataframe thead th {\n",
       "        text-align: right;\n",
       "    }\n",
       "</style>\n",
       "<table border=\"1\" class=\"dataframe\">\n",
       "  <thead>\n",
       "    <tr style=\"text-align: right;\">\n",
       "      <th></th>\n",
       "      <th>ID</th>\n",
       "      <th>Age</th>\n",
       "      <th>Gender</th>\n",
       "      <th>Education</th>\n",
       "      <th>Query_List</th>\n",
       "      <th>Query_List_Break</th>\n",
       "      <th>Query_Num</th>\n",
       "      <th>Query_Length_Mean</th>\n",
       "    </tr>\n",
       "  </thead>\n",
       "  <tbody>\n",
       "    <tr>\n",
       "      <th>0</th>\n",
       "      <td>22DD920316420BE2DF8D6EE651BA174B</td>\n",
       "      <td>1</td>\n",
       "      <td>1</td>\n",
       "      <td>4</td>\n",
       "      <td>柔和双沟\\t女生\\t中财网首页 财经\\thttp://pan.baidu.com/s/1pl...</td>\n",
       "      <td>[柔和双沟, 女生, 中财网首页 财经, http://pan.baidu.com/s/1p...</td>\n",
       "      <td>275</td>\n",
       "      <td>8.654545</td>\n",
       "    </tr>\n",
       "    <tr>\n",
       "      <th>1</th>\n",
       "      <td>43CC3AF5A8D6430A3B572337A889AFE4</td>\n",
       "      <td>2</td>\n",
       "      <td>1</td>\n",
       "      <td>3</td>\n",
       "      <td>广州厨宝烤箱\\t世情薄,人情恶,雨送黄昏花易落,晓风干,泪痕\\t厦门酒店用品批发市场\\t我只...</td>\n",
       "      <td>[广州厨宝烤箱, 世情薄,人情恶,雨送黄昏花易落,晓风干,泪痕, 厦门酒店用品批发市场, 我...</td>\n",
       "      <td>186</td>\n",
       "      <td>8.838710</td>\n",
       "    </tr>\n",
       "    <tr>\n",
       "      <th>2</th>\n",
       "      <td>E97654BFF5570E2CCD433EA6128EAC19</td>\n",
       "      <td>4</td>\n",
       "      <td>1</td>\n",
       "      <td>0</td>\n",
       "      <td>钻石之泪耳机\\t盘锦到沈阳\\t旅顺公交\\t辽宁阜新车牌\\tbaidu\\tk715\\tk716...</td>\n",
       "      <td>[钻石之泪耳机, 盘锦到沈阳, 旅顺公交, 辽宁阜新车牌, baidu, k715, k71...</td>\n",
       "      <td>104</td>\n",
       "      <td>5.740385</td>\n",
       "    </tr>\n",
       "    <tr>\n",
       "      <th>3</th>\n",
       "      <td>6931EFC26D229CCFCEA125D3F3C21E57</td>\n",
       "      <td>4</td>\n",
       "      <td>2</td>\n",
       "      <td>3</td>\n",
       "      <td>最受欢迎狗狗排行榜\\t舶怎么读\\t场景描 写范例\\t三维绘图软件\\t枣和酸奶能一起吃吗\\t好...</td>\n",
       "      <td>[最受欢迎狗狗排行榜, 舶怎么读, 场景描 写范例, 三维绘图软件, 枣和酸奶能一起吃吗, ...</td>\n",
       "      <td>173</td>\n",
       "      <td>6.502890</td>\n",
       "    </tr>\n",
       "    <tr>\n",
       "      <th>4</th>\n",
       "      <td>E780470C3BB0D340334BD08CDCC3C71A</td>\n",
       "      <td>2</td>\n",
       "      <td>2</td>\n",
       "      <td>4</td>\n",
       "      <td>干槽症能自愈吗\\t太太万岁叶舒心去没去美国\\t干槽症\\t右眼皮下面一直跳是怎么回事\\t麦当劳...</td>\n",
       "      <td>[干槽症能自愈吗, 太太万岁叶舒心去没去美国, 干槽症, 右眼皮下面一直跳是怎么回事, 麦当...</td>\n",
       "      <td>117</td>\n",
       "      <td>8.649573</td>\n",
       "    </tr>\n",
       "  </tbody>\n",
       "</table>\n",
       "</div>"
      ],
      "text/plain": [
       "                                 ID  Age  Gender  Education  \\\n",
       "0  22DD920316420BE2DF8D6EE651BA174B    1       1          4   \n",
       "1  43CC3AF5A8D6430A3B572337A889AFE4    2       1          3   \n",
       "2  E97654BFF5570E2CCD433EA6128EAC19    4       1          0   \n",
       "3  6931EFC26D229CCFCEA125D3F3C21E57    4       2          3   \n",
       "4  E780470C3BB0D340334BD08CDCC3C71A    2       2          4   \n",
       "\n",
       "                                          Query_List  \\\n",
       "0  柔和双沟\\t女生\\t中财网首页 财经\\thttp://pan.baidu.com/s/1pl...   \n",
       "1  广州厨宝烤箱\\t世情薄,人情恶,雨送黄昏花易落,晓风干,泪痕\\t厦门酒店用品批发市场\\t我只...   \n",
       "2  钻石之泪耳机\\t盘锦到沈阳\\t旅顺公交\\t辽宁阜新车牌\\tbaidu\\tk715\\tk716...   \n",
       "3  最受欢迎狗狗排行榜\\t舶怎么读\\t场景描 写范例\\t三维绘图软件\\t枣和酸奶能一起吃吗\\t好...   \n",
       "4  干槽症能自愈吗\\t太太万岁叶舒心去没去美国\\t干槽症\\t右眼皮下面一直跳是怎么回事\\t麦当劳...   \n",
       "\n",
       "                                    Query_List_Break  Query_Num  \\\n",
       "0  [柔和双沟, 女生, 中财网首页 财经, http://pan.baidu.com/s/1p...        275   \n",
       "1  [广州厨宝烤箱, 世情薄,人情恶,雨送黄昏花易落,晓风干,泪痕, 厦门酒店用品批发市场, 我...        186   \n",
       "2  [钻石之泪耳机, 盘锦到沈阳, 旅顺公交, 辽宁阜新车牌, baidu, k715, k71...        104   \n",
       "3  [最受欢迎狗狗排行榜, 舶怎么读, 场景描 写范例, 三维绘图软件, 枣和酸奶能一起吃吗, ...        173   \n",
       "4  [干槽症能自愈吗, 太太万岁叶舒心去没去美国, 干槽症, 右眼皮下面一直跳是怎么回事, 麦当...        117   \n",
       "\n",
       "   Query_Length_Mean  \n",
       "0           8.654545  \n",
       "1           8.838710  \n",
       "2           5.740385  \n",
       "3           6.502890  \n",
       "4           8.649573  "
      ]
     },
     "execution_count": 9,
     "metadata": {},
     "output_type": "execute_result"
    }
   ],
   "source": [
    "train.head()"
   ]
  },
  {
   "cell_type": "code",
   "execution_count": 121,
   "metadata": {},
   "outputs": [],
   "source": [
    "import seaborn as sns"
   ]
  },
  {
   "cell_type": "code",
   "execution_count": 68,
   "metadata": {},
   "outputs": [
    {
     "data": {
      "text/plain": [
       "<matplotlib.axes._subplots.AxesSubplot at 0x18471306640>"
      ]
     },
     "execution_count": 68,
     "metadata": {},
     "output_type": "execute_result"
    },
    {
     "data": {
      "image/png": "[encoded data removed]",
      "text/plain": [
       "<Figure size 432x288 with 1 Axes>"
      ]
     },
     "metadata": {
      "needs_background": "light"
     },
     "output_type": "display_data"
    }
   ],
   "source": [
    "sns.boxplot(data=train, x='Gender', y='Query_Length_Mean')"
   ]
  },
  {
   "cell_type": "code",
   "execution_count": 70,
   "metadata": {},
   "outputs": [
    {
     "data": {
      "text/html": [
       "<div>\n",
       "<style scoped>\n",
       "    .dataframe tbody tr th:only-of-type {\n",
       "        vertical-align: middle;\n",
       "    }\n",
       "\n",
       "    .dataframe tbody tr th {\n",
       "        vertical-align: top;\n",
       "    }\n",
       "\n",
       "    .dataframe thead tr th {\n",
       "        text-align: left;\n",
       "    }\n",
       "\n",
       "    .dataframe thead tr:last-of-type th {\n",
       "        text-align: right;\n",
       "    }\n",
       "</style>\n",
       "<table border=\"1\" class=\"dataframe\">\n",
       "  <thead>\n",
       "    <tr>\n",
       "      <th></th>\n",
       "      <th colspan=\"2\" halign=\"left\">Query_Length_Mean</th>\n",
       "    </tr>\n",
       "    <tr>\n",
       "      <th></th>\n",
       "      <th>median</th>\n",
       "      <th>mean</th>\n",
       "    </tr>\n",
       "    <tr>\n",
       "      <th>Gender</th>\n",
       "      <th></th>\n",
       "      <th></th>\n",
       "    </tr>\n",
       "  </thead>\n",
       "  <tbody>\n",
       "    <tr>\n",
       "      <th>0</th>\n",
       "      <td>7.514085</td>\n",
       "      <td>7.571780</td>\n",
       "    </tr>\n",
       "    <tr>\n",
       "      <th>1</th>\n",
       "      <td>7.492958</td>\n",
       "      <td>7.565798</td>\n",
       "    </tr>\n",
       "    <tr>\n",
       "      <th>2</th>\n",
       "      <td>7.753731</td>\n",
       "      <td>7.842073</td>\n",
       "    </tr>\n",
       "  </tbody>\n",
       "</table>\n",
       "</div>"
      ],
      "text/plain": [
       "       Query_Length_Mean          \n",
       "                  median      mean\n",
       "Gender                            \n",
       "0               7.514085  7.571780\n",
       "1               7.492958  7.565798\n",
       "2               7.753731  7.842073"
      ]
     },
     "execution_count": 70,
     "metadata": {},
     "output_type": "execute_result"
    }
   ],
   "source": [
    "train.groupby(by='Gender').agg({'Query_Length_Mean':['median', 'mean']})"
   ]
  },
  {
   "cell_type": "code",
   "execution_count": 71,
   "metadata": {},
   "outputs": [
    {
     "data": {
      "text/html": [
       "<div>\n",
       "<style scoped>\n",
       "    .dataframe tbody tr th:only-of-type {\n",
       "        vertical-align: middle;\n",
       "    }\n",
       "\n",
       "    .dataframe tbody tr th {\n",
       "        vertical-align: top;\n",
       "    }\n",
       "\n",
       "    .dataframe thead tr th {\n",
       "        text-align: left;\n",
       "    }\n",
       "\n",
       "    .dataframe thead tr:last-of-type th {\n",
       "        text-align: right;\n",
       "    }\n",
       "</style>\n",
       "<table border=\"1\" class=\"dataframe\">\n",
       "  <thead>\n",
       "    <tr>\n",
       "      <th></th>\n",
       "      <th colspan=\"2\" halign=\"left\">Query_Length_Mean</th>\n",
       "    </tr>\n",
       "    <tr>\n",
       "      <th></th>\n",
       "      <th>median</th>\n",
       "      <th>mean</th>\n",
       "    </tr>\n",
       "    <tr>\n",
       "      <th>Education</th>\n",
       "      <th></th>\n",
       "      <th></th>\n",
       "    </tr>\n",
       "  </thead>\n",
       "  <tbody>\n",
       "    <tr>\n",
       "      <th>0</th>\n",
       "      <td>7.600000</td>\n",
       "      <td>7.683870</td>\n",
       "    </tr>\n",
       "    <tr>\n",
       "      <th>1</th>\n",
       "      <td>7.596593</td>\n",
       "      <td>7.774743</td>\n",
       "    </tr>\n",
       "    <tr>\n",
       "      <th>2</th>\n",
       "      <td>7.573593</td>\n",
       "      <td>7.608511</td>\n",
       "    </tr>\n",
       "    <tr>\n",
       "      <th>3</th>\n",
       "      <td>7.571974</td>\n",
       "      <td>7.630741</td>\n",
       "    </tr>\n",
       "    <tr>\n",
       "      <th>4</th>\n",
       "      <td>7.689655</td>\n",
       "      <td>7.772251</td>\n",
       "    </tr>\n",
       "    <tr>\n",
       "      <th>5</th>\n",
       "      <td>7.575163</td>\n",
       "      <td>7.643540</td>\n",
       "    </tr>\n",
       "    <tr>\n",
       "      <th>6</th>\n",
       "      <td>7.512000</td>\n",
       "      <td>7.599113</td>\n",
       "    </tr>\n",
       "  </tbody>\n",
       "</table>\n",
       "</div>"
      ],
      "text/plain": [
       "          Query_Length_Mean          \n",
       "                     median      mean\n",
       "Education                            \n",
       "0                  7.600000  7.683870\n",
       "1                  7.596593  7.774743\n",
       "2                  7.573593  7.608511\n",
       "3                  7.571974  7.630741\n",
       "4                  7.689655  7.772251\n",
       "5                  7.575163  7.643540\n",
       "6                  7.512000  7.599113"
      ]
     },
     "execution_count": 71,
     "metadata": {},
     "output_type": "execute_result"
    }
   ],
   "source": [
    "train.groupby(by='Education').agg({'Query_Length_Mean':['median', 'mean']})"
   ]
  },
  {
   "cell_type": "code",
   "execution_count": 72,
   "metadata": {},
   "outputs": [
    {
     "data": {
      "text/html": [
       "<div>\n",
       "<style scoped>\n",
       "    .dataframe tbody tr th:only-of-type {\n",
       "        vertical-align: middle;\n",
       "    }\n",
       "\n",
       "    .dataframe tbody tr th {\n",
       "        vertical-align: top;\n",
       "    }\n",
       "\n",
       "    .dataframe thead tr th {\n",
       "        text-align: left;\n",
       "    }\n",
       "\n",
       "    .dataframe thead tr:last-of-type th {\n",
       "        text-align: right;\n",
       "    }\n",
       "</style>\n",
       "<table border=\"1\" class=\"dataframe\">\n",
       "  <thead>\n",
       "    <tr>\n",
       "      <th></th>\n",
       "      <th colspan=\"2\" halign=\"left\">Query_Length_Mean</th>\n",
       "    </tr>\n",
       "    <tr>\n",
       "      <th></th>\n",
       "      <th>median</th>\n",
       "      <th>mean</th>\n",
       "    </tr>\n",
       "    <tr>\n",
       "      <th>Age</th>\n",
       "      <th></th>\n",
       "      <th></th>\n",
       "    </tr>\n",
       "  </thead>\n",
       "  <tbody>\n",
       "    <tr>\n",
       "      <th>0</th>\n",
       "      <td>7.506957</td>\n",
       "      <td>7.592866</td>\n",
       "    </tr>\n",
       "    <tr>\n",
       "      <th>1</th>\n",
       "      <td>7.555556</td>\n",
       "      <td>7.620877</td>\n",
       "    </tr>\n",
       "    <tr>\n",
       "      <th>2</th>\n",
       "      <td>7.650943</td>\n",
       "      <td>7.741557</td>\n",
       "    </tr>\n",
       "    <tr>\n",
       "      <th>3</th>\n",
       "      <td>7.623457</td>\n",
       "      <td>7.679814</td>\n",
       "    </tr>\n",
       "    <tr>\n",
       "      <th>4</th>\n",
       "      <td>7.641407</td>\n",
       "      <td>7.715621</td>\n",
       "    </tr>\n",
       "    <tr>\n",
       "      <th>5</th>\n",
       "      <td>7.650883</td>\n",
       "      <td>7.756314</td>\n",
       "    </tr>\n",
       "    <tr>\n",
       "      <th>6</th>\n",
       "      <td>7.722222</td>\n",
       "      <td>7.862378</td>\n",
       "    </tr>\n",
       "  </tbody>\n",
       "</table>\n",
       "</div>"
      ],
      "text/plain": [
       "    Query_Length_Mean          \n",
       "               median      mean\n",
       "Age                            \n",
       "0            7.506957  7.592866\n",
       "1            7.555556  7.620877\n",
       "2            7.650943  7.741557\n",
       "3            7.623457  7.679814\n",
       "4            7.641407  7.715621\n",
       "5            7.650883  7.756314\n",
       "6            7.722222  7.862378"
      ]
     },
     "execution_count": 72,
     "metadata": {},
     "output_type": "execute_result"
    }
   ],
   "source": [
    "train.groupby(by='Age').agg({'Query_Length_Mean':['median', 'mean']})"
   ]
  },
  {
   "cell_type": "code",
   "execution_count": 73,
   "metadata": {},
   "outputs": [
    {
     "data": {
      "text/html": [
       "<div>\n",
       "<style scoped>\n",
       "    .dataframe tbody tr th:only-of-type {\n",
       "        vertical-align: middle;\n",
       "    }\n",
       "\n",
       "    .dataframe tbody tr th {\n",
       "        vertical-align: top;\n",
       "    }\n",
       "\n",
       "    .dataframe thead tr th {\n",
       "        text-align: left;\n",
       "    }\n",
       "\n",
       "    .dataframe thead tr:last-of-type th {\n",
       "        text-align: right;\n",
       "    }\n",
       "</style>\n",
       "<table border=\"1\" class=\"dataframe\">\n",
       "  <thead>\n",
       "    <tr>\n",
       "      <th></th>\n",
       "      <th colspan=\"2\" halign=\"left\">Query_Num</th>\n",
       "    </tr>\n",
       "    <tr>\n",
       "      <th></th>\n",
       "      <th>median</th>\n",
       "      <th>mean</th>\n",
       "    </tr>\n",
       "    <tr>\n",
       "      <th>Age</th>\n",
       "      <th></th>\n",
       "      <th></th>\n",
       "    </tr>\n",
       "  </thead>\n",
       "  <tbody>\n",
       "    <tr>\n",
       "      <th>0</th>\n",
       "      <td>122</td>\n",
       "      <td>145.129052</td>\n",
       "    </tr>\n",
       "    <tr>\n",
       "      <th>1</th>\n",
       "      <td>120</td>\n",
       "      <td>141.184583</td>\n",
       "    </tr>\n",
       "    <tr>\n",
       "      <th>2</th>\n",
       "      <td>124</td>\n",
       "      <td>146.756768</td>\n",
       "    </tr>\n",
       "    <tr>\n",
       "      <th>3</th>\n",
       "      <td>122</td>\n",
       "      <td>142.843704</td>\n",
       "    </tr>\n",
       "    <tr>\n",
       "      <th>4</th>\n",
       "      <td>120</td>\n",
       "      <td>139.096677</td>\n",
       "    </tr>\n",
       "    <tr>\n",
       "      <th>5</th>\n",
       "      <td>120</td>\n",
       "      <td>138.508556</td>\n",
       "    </tr>\n",
       "    <tr>\n",
       "      <th>6</th>\n",
       "      <td>116</td>\n",
       "      <td>137.840491</td>\n",
       "    </tr>\n",
       "  </tbody>\n",
       "</table>\n",
       "</div>"
      ],
      "text/plain": [
       "    Query_Num            \n",
       "       median        mean\n",
       "Age                      \n",
       "0         122  145.129052\n",
       "1         120  141.184583\n",
       "2         124  146.756768\n",
       "3         122  142.843704\n",
       "4         120  139.096677\n",
       "5         120  138.508556\n",
       "6         116  137.840491"
      ]
     },
     "execution_count": 73,
     "metadata": {},
     "output_type": "execute_result"
    }
   ],
   "source": [
    "train.groupby(by='Age').agg({'Query_Num':['median', 'mean']})"
   ]
  },
  {
   "cell_type": "markdown",
   "metadata": {},
   "source": [
    "## jieba"
   ]
  },
  {
   "cell_type": "code",
   "execution_count": 15,
   "metadata": {},
   "outputs": [],
   "source": [
    "import jieba"
   ]
  },
  {
   "cell_type": "code",
   "execution_count": 16,
   "metadata": {},
   "outputs": [
    {
     "name": "stderr",
     "output_type": "stream",
     "text": [
      "Building prefix dict from the default dictionary ...\n",
      "Dumping model to file cache C:\\Users\\Liyifan\\AppData\\Local\\Temp\\jieba.cache\n",
      "Loading model cost 0.656 seconds.\n",
      "Prefix dict has been built successfully.\n"
     ]
    },
    {
     "data": {
      "text/plain": [
       "['小生',\n",
       " '梦',\n",
       " '惊魂',\n",
       " '\\t',\n",
       " '鼠标',\n",
       " '怎么',\n",
       " '拆开',\n",
       " '图解',\n",
       " '\\t',\n",
       " '我们',\n",
       " '的',\n",
       " '十年',\n",
       " '\\t',\n",
       " '求导',\n",
       " '法则',\n",
       " '\\t',\n",
       " '终极',\n",
       " '一班',\n",
       " '4',\n",
       " '百度',\n",
       " '云',\n",
       " '资源',\n",
       " '\\t',\n",
       " '亲家',\n",
       " '过年',\n",
       " '\\t',\n",
       " '电影',\n",
       " '\\t',\n",
       " '小虎子',\n",
       " '闯世界',\n",
       " '\\t',\n",
       " '六弄',\n",
       " '咖啡馆',\n",
       " '百度',\n",
       " '云',\n",
       " '\\t',\n",
       " '一寸',\n",
       " '\\t',\n",
       " '番',\n",
       " '12',\n",
       " '路',\n",
       " '公交车',\n",
       " '路线',\n",
       " '\\t',\n",
       " '巴塞罗那',\n",
       " '\\t',\n",
       " '微微',\n",
       " '一笑倾城',\n",
       " '电影网',\n",
       " '盘',\n",
       " '\\t',\n",
       " '神厨',\n",
       " '电影',\n",
       " '资源',\n",
       " '分享',\n",
       " '\\t',\n",
       " '法线',\n",
       " '方程',\n",
       " '\\t',\n",
       " 'pokemon',\n",
       " ' ',\n",
       " 'go',\n",
       " '怎么',\n",
       " '玩',\n",
       " '不了',\n",
       " '\\t',\n",
       " '广州',\n",
       " '北京路',\n",
       " '步行街',\n",
       " '\\t',\n",
       " '终极',\n",
       " '一班',\n",
       " '4',\n",
       " '云盘',\n",
       " '资源',\n",
       " '\\t',\n",
       " '窃资达',\n",
       " '人',\n",
       " '\\t',\n",
       " '活色生香',\n",
       " '小说',\n",
       " '\\t',\n",
       " '钢铁',\n",
       " '侠',\n",
       " '2',\n",
       " '\\t',\n",
       " '钢铁',\n",
       " '侠',\n",
       " '3',\n",
       " '\\t',\n",
       " 'cosx',\n",
       " '周期',\n",
       " '\\t',\n",
       " '封神',\n",
       " '传奇',\n",
       " '搜索',\n",
       " '百科',\n",
       " '\\t',\n",
       " '钢铁',\n",
       " '侠',\n",
       " '4',\n",
       " '\\t',\n",
       " '餐',\n",
       " '吧',\n",
       " '\\t',\n",
       " '卡塔尔',\n",
       " '基地',\n",
       " '\\t',\n",
       " '霸道',\n",
       " '总裁',\n",
       " '活色生香',\n",
       " '\\t',\n",
       " '微波炉',\n",
       " '烤红薯',\n",
       " '\\t',\n",
       " 'y',\n",
       " '=',\n",
       " 'x',\n",
       " '^',\n",
       " '3',\n",
       " '\\t',\n",
       " '雪儿',\n",
       " '未',\n",
       " '删减',\n",
       " '版',\n",
       " '\\t',\n",
       " 'limf',\n",
       " '(',\n",
       " 'x',\n",
       " ')',\n",
       " '存在',\n",
       " ',',\n",
       " '则',\n",
       " 'f',\n",
       " '(',\n",
       " 'x',\n",
       " ')',\n",
       " '在',\n",
       " 'x',\n",
       " '处',\n",
       " '\\t',\n",
       " '星探',\n",
       " '电影',\n",
       " '\\t',\n",
       " '安卓微信',\n",
       " '一键',\n",
       " '转发',\n",
       " '软件',\n",
       " '\\t',\n",
       " '钟楚红',\n",
       " '雪儿',\n",
       " '未',\n",
       " '删减',\n",
       " '版',\n",
       " '\\t',\n",
       " '地铁',\n",
       " '图',\n",
       " '\\t',\n",
       " '猪仙',\n",
       " '\\t',\n",
       " '心形线',\n",
       " '周长',\n",
       " '怎么',\n",
       " '求',\n",
       " '\\t',\n",
       " '包皮',\n",
       " '过长',\n",
       " '会',\n",
       " '带来',\n",
       " '什么',\n",
       " '危害',\n",
       " '\\t',\n",
       " '拐个',\n",
       " '皇帝',\n",
       " '回',\n",
       " '现代',\n",
       " '\\t',\n",
       " '影音',\n",
       " '先锋',\n",
       " '看片',\n",
       " '资源',\n",
       " '\\t',\n",
       " '猪八戒',\n",
       " '\\t',\n",
       " 'y',\n",
       " '=',\n",
       " 'x',\n",
       " '^',\n",
       " '3',\n",
       " '+',\n",
       " '1',\n",
       " '是',\n",
       " '奇函数',\n",
       " '吗',\n",
       " '\\t',\n",
       " 'pokemon',\n",
       " ' ',\n",
       " 'go',\n",
       " '进不去',\n",
       " '\\t',\n",
       " '封神',\n",
       " '传奇',\n",
       " '有',\n",
       " '几部',\n",
       " '\\t',\n",
       " '心形线',\n",
       " '\\t',\n",
       " '香港',\n",
       " '片',\n",
       " '\\t',\n",
       " '(',\n",
       " '2',\n",
       " '_',\n",
       " 'x',\n",
       " ')',\n",
       " 'sin',\n",
       " '(',\n",
       " '1',\n",
       " '/',\n",
       " '(',\n",
       " '2',\n",
       " '_',\n",
       " 'x',\n",
       " ')',\n",
       " ')',\n",
       " '\\t',\n",
       " '番',\n",
       " '67',\n",
       " '全程',\n",
       " '\\t',\n",
       " 'tanx',\n",
       " '周期',\n",
       " '\\t',\n",
       " '活色生香',\n",
       " ',',\n",
       " '灵书',\n",
       " '阅读',\n",
       " '\\t',\n",
       " 'tyrant',\n",
       " '美剧',\n",
       " '\\t',\n",
       " 'pokemon',\n",
       " ' ',\n",
       " 'go',\n",
       " '怎么',\n",
       " '玩',\n",
       " '\\t',\n",
       " '安西',\n",
       " '教练',\n",
       " '我',\n",
       " '想',\n",
       " '打篮球',\n",
       " '出自',\n",
       " '哪个',\n",
       " '漫画',\n",
       " '\\t',\n",
       " '微微一笑',\n",
       " '很',\n",
       " '倾城',\n",
       " '电影',\n",
       " '百度',\n",
       " '云',\n",
       " '\\t',\n",
       " '番',\n",
       " '68',\n",
       " '\\t',\n",
       " '奇函数',\n",
       " '乘',\n",
       " '奇函数',\n",
       " '\\t',\n",
       " '番',\n",
       " '12',\n",
       " '路线',\n",
       " '\\t',\n",
       " '窃资达',\n",
       " '人',\n",
       " '资源',\n",
       " '\\t',\n",
       " '封神',\n",
       " '传奇',\n",
       " '百度',\n",
       " '云',\n",
       " '\\t',\n",
       " '93',\n",
       " '号',\n",
       " '航班',\n",
       " '\\t',\n",
       " '电影',\n",
       " '百度',\n",
       " '云',\n",
       " '\\t',\n",
       " '毛晓彤',\n",
       " '\\t',\n",
       " '复仇者',\n",
       " '联盟',\n",
       " '\\t',\n",
       " '联航',\n",
       " '93',\n",
       " '百度',\n",
       " '云',\n",
       " '\\t',\n",
       " '李丽珍',\n",
       " '\\t',\n",
       " 'x',\n",
       " '→',\n",
       " '2',\n",
       " ',',\n",
       " 'limax',\n",
       " '+',\n",
       " 'b',\n",
       " '/',\n",
       " '(',\n",
       " 'x',\n",
       " '-',\n",
       " '2',\n",
       " ')',\n",
       " '=',\n",
       " '2',\n",
       " '求',\n",
       " 'ab',\n",
       " '\\t',\n",
       " '三人行',\n",
       " '\\t',\n",
       " '包皮',\n",
       " '环切术',\n",
       " '\\t',\n",
       " '爱德华',\n",
       " '·',\n",
       " '诺顿',\n",
       " '\\t',\n",
       " '神厨',\n",
       " '台湾',\n",
       " '资源',\n",
       " '分享',\n",
       " '\\t',\n",
       " '番',\n",
       " '67',\n",
       " '全程',\n",
       " '时间',\n",
       " '\\t',\n",
       " '神厨',\n",
       " '任容',\n",
       " '萱',\n",
       " '资源',\n",
       " '分享',\n",
       " '\\t',\n",
       " '市桥',\n",
       " '到',\n",
       " '燕塘',\n",
       " '时间',\n",
       " '\\t',\n",
       " '台湾',\n",
       " '神厨',\n",
       " '资源',\n",
       " '分享',\n",
       " '\\t',\n",
       " '番禺区',\n",
       " '邮政编码',\n",
       " '\\t',\n",
       " '神厨',\n",
       " '\\t',\n",
       " '六弄',\n",
       " '咖啡馆',\n",
       " '\\t',\n",
       " '窃资达',\n",
       " '人',\n",
       " '贴',\n",
       " '吧',\n",
       " '\\t',\n",
       " '绿巨人',\n",
       " '\\t',\n",
       " '童话',\n",
       " '村',\n",
       " '\\t',\n",
       " '美国',\n",
       " '队长',\n",
       " '百度',\n",
       " '云',\n",
       " '\\t',\n",
       " 'lim',\n",
       " '(',\n",
       " '√',\n",
       " '(',\n",
       " '2x',\n",
       " '+',\n",
       " '1',\n",
       " ')',\n",
       " '-',\n",
       " '3',\n",
       " ')',\n",
       " '/',\n",
       " '(',\n",
       " '√',\n",
       " '(',\n",
       " 'x',\n",
       " '-',\n",
       " '2',\n",
       " ')',\n",
       " '-',\n",
       " '√',\n",
       " '2',\n",
       " ')',\n",
       " '\\t',\n",
       " '∩',\n",
       " '\\t',\n",
       " '艾瑞克',\n",
       " '·',\n",
       " '巴纳',\n",
       " '\\t',\n",
       " '朱宝意',\n",
       " '\\t',\n",
       " '都市生活',\n",
       " '活色生香',\n",
       " '小说',\n",
       " '\\t',\n",
       " '菊豆',\n",
       " '\\t',\n",
       " '拐个',\n",
       " '皇帝',\n",
       " '回',\n",
       " '现代',\n",
       " '百度',\n",
       " '云',\n",
       " '\\t',\n",
       " '93',\n",
       " '号',\n",
       " '航班',\n",
       " '百度',\n",
       " '云',\n",
       " '\\t',\n",
       " '钟楚红',\n",
       " '雪儿',\n",
       " '百度',\n",
       " '云',\n",
       " '\\t',\n",
       " '联航',\n",
       " '93',\n",
       " '\\t',\n",
       " '深圳',\n",
       " '财付',\n",
       " '通科技',\n",
       " '有限公司',\n",
       " '\\t',\n",
       " '王适',\n",
       " '娴',\n",
       " '谌龙',\n",
       " '照片',\n",
       " '\\t',\n",
       " 'sm',\n",
       " '\\t',\n",
       " '对数',\n",
       " '\\t',\n",
       " '活色生香',\n",
       " '广州',\n",
       " '小说',\n",
       " '\\t',\n",
       " '罗京',\n",
       " '\\t',\n",
       " '雪儿',\n",
       " '百度',\n",
       " '云',\n",
       " '\\t',\n",
       " '复仇者',\n",
       " '联盟',\n",
       " '2',\n",
       " '\\t',\n",
       " 'e',\n",
       " '∧',\n",
       " '1',\n",
       " '/',\n",
       " 'x',\n",
       " '极限',\n",
       " '\\t',\n",
       " '广东',\n",
       " '科技',\n",
       " '学院',\n",
       " '\\t',\n",
       " '祈祷',\n",
       " '卓依婷',\n",
       " '\\t',\n",
       " '微微一笑',\n",
       " '很',\n",
       " '倾城',\n",
       " '电影',\n",
       " '\\t',\n",
       " '釜山',\n",
       " '行',\n",
       " '\\t',\n",
       " '1',\n",
       " '-',\n",
       " 'e',\n",
       " '∧',\n",
       " '(',\n",
       " '1',\n",
       " '/',\n",
       " 'x',\n",
       " ')',\n",
       " '/',\n",
       " '(',\n",
       " '1',\n",
       " '+',\n",
       " 'e',\n",
       " '∧',\n",
       " '(',\n",
       " '1',\n",
       " '/',\n",
       " 'x',\n",
       " ')',\n",
       " ')',\n",
       " '\\t',\n",
       " 'x',\n",
       " '→',\n",
       " '2',\n",
       " ',',\n",
       " 'limax',\n",
       " '+',\n",
       " 'b',\n",
       " '/',\n",
       " '(',\n",
       " 'x',\n",
       " '-',\n",
       " '2',\n",
       " ')',\n",
       " '=',\n",
       " '2',\n",
       " '\\t',\n",
       " '精灵',\n",
       " '宝贝',\n",
       " '复刻',\n",
       " '\\t',\n",
       " '广东',\n",
       " '科技',\n",
       " '职业',\n",
       " '技术',\n",
       " '学院',\n",
       " '\\t',\n",
       " '乔任',\n",
       " '梁',\n",
       " '\\t',\n",
       " '孙悟空',\n",
       " '七打',\n",
       " '九尾狐',\n",
       " '\\t',\n",
       " '作业',\n",
       " '帮',\n",
       " '\\t',\n",
       " '窃资达',\n",
       " '人',\n",
       " '360',\n",
       " '\\t',\n",
       " 'limx',\n",
       " '-',\n",
       " '2',\n",
       " '/',\n",
       " '(',\n",
       " ')',\n",
       " '\\t',\n",
       " '封神',\n",
       " '传奇',\n",
       " '\\t',\n",
       " '神厨',\n",
       " '百度',\n",
       " '云',\n",
       " '\\t',\n",
       " '神厨',\n",
       " '台湾',\n",
       " '\\t',\n",
       " 'ln2',\n",
       " '等于',\n",
       " '多少',\n",
       " '\\t',\n",
       " '广州',\n",
       " '番禺',\n",
       " '职业',\n",
       " '技术',\n",
       " '学院',\n",
       " '\\t',\n",
       " '钟楚红',\n",
       " '雪儿',\n",
       " '\\t',\n",
       " '范冰冰',\n",
       " '\\t',\n",
       " '微信',\n",
       " '朋友圈',\n",
       " '视频',\n",
       " '怎么',\n",
       " '转发',\n",
       " '到',\n",
       " '朋友圈',\n",
       " '\\t',\n",
       " 'limx',\n",
       " '-',\n",
       " '2',\n",
       " '/',\n",
       " '(',\n",
       " '√',\n",
       " '(',\n",
       " 'x',\n",
       " '+',\n",
       " '2',\n",
       " ')',\n",
       " ')',\n",
       " '\\t',\n",
       " '精灵',\n",
       " '王座',\n",
       " '\\t',\n",
       " 'xbox360',\n",
       " '\\t',\n",
       " '地铁',\n",
       " '三号',\n",
       " '线',\n",
       " '时刻表',\n",
       " '\\t',\n",
       " '无敌',\n",
       " '浩克',\n",
       " '\\t',\n",
       " '电影',\n",
       " '百度',\n",
       " '云',\n",
       " '资源',\n",
       " '分享',\n",
       " '吧',\n",
       " '\\t',\n",
       " '数列',\n",
       " '求和',\n",
       " '公式',\n",
       " '\\t',\n",
       " '神厨',\n",
       " '台湾',\n",
       " '百度',\n",
       " '云',\n",
       " '\\t',\n",
       " '番',\n",
       " '67',\n",
       " '路',\n",
       " '公交车',\n",
       " '路线',\n",
       " '\\t',\n",
       " 'limtan',\n",
       " '∧',\n",
       " 'n',\n",
       " '(',\n",
       " '∏',\n",
       " '╱',\n",
       " '4',\n",
       " '+',\n",
       " '2',\n",
       " '/',\n",
       " 'n',\n",
       " ')',\n",
       " '\\t',\n",
       " '求',\n",
       " '限值',\n",
       " '\\t',\n",
       " '雪儿',\n",
       " '\\t',\n",
       " '神奇',\n",
       " '宝贝',\n",
       " '复刻',\n",
       " '精灵',\n",
       " '\\t',\n",
       " 'lim',\n",
       " '(',\n",
       " '2',\n",
       " '_',\n",
       " 'x',\n",
       " ')',\n",
       " 'sin',\n",
       " '(',\n",
       " '1',\n",
       " '/',\n",
       " '(',\n",
       " '2',\n",
       " '_',\n",
       " 'x',\n",
       " ')',\n",
       " ')',\n",
       " '\\t',\n",
       " '手机卡',\n",
       " '读',\n",
       " '不',\n",
       " '出来',\n",
       " '怎么办',\n",
       " '\\t',\n",
       " '钢铁',\n",
       " '侠',\n",
       " '\\t',\n",
       " '猎狐',\n",
       " '鼠标',\n",
       " '怎么',\n",
       " '拆',\n",
       " '\\t',\n",
       " '活色生香',\n",
       " '\\t',\n",
       " '极限',\n",
       " '0',\n",
       " '/',\n",
       " '0',\n",
       " '\\t',\n",
       " '钢铁',\n",
       " '侠',\n",
       " '3',\n",
       " '范冰冰',\n",
       " '\\t',\n",
       " '卡塔尔',\n",
       " '基地',\n",
       " '那',\n",
       " '部',\n",
       " '电影',\n",
       " '里',\n",
       " '的',\n",
       " '\\t',\n",
       " '卓依婷',\n",
       " '\\t',\n",
       " '刀',\n",
       " '\\t',\n",
       " '极限',\n",
       " '0',\n",
       " '比',\n",
       " '0',\n",
       " '型',\n",
       " '\\t',\n",
       " '李宗伟',\n",
       " '评价',\n",
       " '谌龙',\n",
       " '\\t',\n",
       " '当',\n",
       " '幸福',\n",
       " '来',\n",
       " '敲门',\n",
       " '\\t',\n",
       " 'xsin1',\n",
       " '/',\n",
       " 'x',\n",
       " '\\t',\n",
       " '肖奈',\n",
       " '\\t',\n",
       " '切线',\n",
       " '方程',\n",
       " '\\t',\n",
       " '诛仙',\n",
       " '\\t',\n",
       " 'pokemon',\n",
       " ' ',\n",
       " 'go',\n",
       " '\\t',\n",
       " 'cos3x',\n",
       " '周期',\n",
       " '\\t',\n",
       " '猪八戒',\n",
       " '猪仙',\n",
       " '\\t',\n",
       " '参数',\n",
       " '方程',\n",
       " '的',\n",
       " '二阶',\n",
       " '导数',\n",
       " '\\t',\n",
       " '拍照',\n",
       " '搜索',\n",
       " '\\t',\n",
       " '窃资达',\n",
       " '人',\n",
       " '百度',\n",
       " '云',\n",
       " '\\t',\n",
       " '身份证',\n",
       " '还',\n",
       " '没',\n",
       " '到期',\n",
       " '可以',\n",
       " '提早',\n",
       " '换',\n",
       " '吗',\n",
       " '\\t',\n",
       " '微微一笑',\n",
       " '很',\n",
       " '倾城']"
      ]
     },
     "execution_count": 16,
     "metadata": {},
     "output_type": "execute_result"
    }
   ],
   "source": [
    "sen = train['Query_List'][100]\n",
    "jieba.lcut(sen)"
   ]
  },
  {
   "cell_type": "code",
   "execution_count": 23,
   "metadata": {},
   "outputs": [],
   "source": [
    "from tqdm import tqdm\n",
    "tqdm.pandas()"
   ]
  },
  {
   "cell_type": "code",
   "execution_count": 24,
   "metadata": {},
   "outputs": [
    {
     "name": "stderr",
     "output_type": "stream",
     "text": [
      "100%|█████████████████████████████████████████████████████████████████████████| 100000/100000 [08:55<00:00, 186.59it/s]\n"
     ]
    }
   ],
   "source": [
    "train['jieba_cut'] = train['Query_List'].progress_apply(jieba.lcut)"
   ]
  },
  {
   "cell_type": "code",
   "execution_count": 53,
   "metadata": {},
   "outputs": [
    {
     "data": {
      "text/plain": [
       "array([list(['柔和', '双沟', '\\t', '女生', '\\t', '中财网', '首页', ' ', '财经', '\\t', 'http', ':', '/', '/', 'pan', '.', 'baidu', '.', 'com', '/', 's', '/', '1plpjtn9', '\\t', '周公', '解梦', '大全', '查询', '2345', '\\t', '曹云金', '再讽', '郭德纲', '\\t', '总裁', '大人', '行行好', '\\t', '中财网', '第一', '财经', '传媒', '\\t', '教师节', '全文', '\\t', '男子', '砸毁', '15', '墓碑', '\\t', '黄岩岛', '最新', '填', '海图', '\\t', '引起', '的', '疲', '\\t', '缘来', '未', '迟落', '跑', '甜心', '不好惹', '\\t', '梁朝伟', '与', '替身', '同框', '\\t', '笑傲江湖', '电视剧', '任贤齐', '\\t', '小起', '名字', '女孩', '名字', '\\t', '海运', '行李', '到', '堪培拉', '\\t', '确定', '\\t', '诱爱', '99', '天', ' ', '司少', '的', '天价', '宝贝', '\\t', '什么', '是', '遥控', '魔棒', '\\t', '徽信', '表情', '动态', '搞笑', '图片', '\\t', '教师节', '征文', '100', '字', '\\t', '安微', '联通', '网上', '营业厅', '\\t', '甜宠', '百分百', ':', '校草', '的', '萌萌', '未婚妻', '\\t', '豪门', '重生', '之暖爱', '成婚', '\\t', 'nikehypershift', '和', 'kd5', '哪个', '好看', '\\t', '韭菜', '炒鸡蛋', '\\t', '陈赫', '玩', '王者', '荣耀', '\\t', '虎牙', '楚河', '\\t', '三国演义', '小说', 'txt', '下载', '\\t', '威县', '欧派', '\\t', '炒', '馍', '花', '怎么', '做', '好吃', '\\t', '黄岩岛', '最新消息', '2016', '年', '\\t', '中秋节', '诗句', '大全', '祝福', '\\t', '教师节', '征文', '\\t', '菜谱', '\\t', '柔和', '双沟', '卖', '的', '怎么样', '\\t', '七位数', '开奖', '结果', '\\t', '以色列', '停车场', '坍塌', '\\t', '天龙', '家庭', '农场', '\\t', '7.22', '什么', '星座', '\\t', '新旧', '约', '圣经', '和', '合本', '下载', '\\t', '4', 'π', '\\t', 'wifi', '万能钥匙', '\\t', '威灵仙', '图片', '\\t', '临泉', '长官', '天龙', '家庭', '农场', '\\t', '早安', '总统', '大人', '\\t', '百合', '\\t', '莲藕', '的', '做法', '\\t', '花街', '\\t', '无锡', '\\t', '蚬壳', '胃散', '怎么', '吃', '\\t', '触手', '忆寒', '\\t', '中秋节', '的', '诗句', '\\t', '孟州', '电信', ' ', '电子', '发票', '\\t', '鸡丝', '汤', '的', '做法', '\\t', '我', '等', '你', '\\t', '临泉', '长官', '镇桥口', '李小刚', '农场', '\\t', '朋仇', '\\t', '全民', 'k', '歌', '\\t', '炸', '葱花', '\\t', '蒜苔', '炒肉', '\\t', '冰川', '的', '图片', '\\t', 'kd5', '\\t', '…', '\\t', '若风', '\\t', '好奇', '纸尿裤', '\\t', '清蒸鱼', '\\t', '189.8', '是', '谁', '的', '平方', '\\t', '重庆', '餐馆', '发生爆炸', '\\t', '捡', '手机', '被', '失主', '抢劫', '\\t', 'https', ':', '/', '/', 'yunpan', '.', 'cn', '/', 'ocsqfgtfya2ewj', '\\t', '炒', '馍', '花', '的', '家常', '做法', '\\t', '三国演义', '小说', '百度', '云', '\\t', '总裁', '掠爱', '小舅', '别', '太坏', '\\t', ':', 'https', ':', '/', '/', 'yunpan', '.', 'cn', '/', 'cmh8tmeyraiww', '\\t', '周公', '解梦', '\\t', '查', '坦克', '冰川', '\\t', '凉拌', '藕片', '的', '做法', '\\t', '投票', '\\t', '鸡丝', '炒', '什么', '好吃', '\\t', '被', '时光', '掩埋', '的', '秘密', '小说', '下载', '\\t', '中国电信', '电子', '发票', '\\t', '张续', '豪', '\\t', '关于', '月亮', '的', '诗句', '\\t', '用', '酵母', '蒸', '馒头', '的', '方法', '\\t', '赵丽颖', '碧瑶', '坐', '\\t', '触手', '兵长', '\\t', '图集', ' ', '下载', '腾讯', '新闻', ',', '看', '街头', '混战', '武警', '\\t', '厦门航空', '\\t', '蚬壳', '胃散', '\\t', '炒', '茄子', '做法', '\\t', '身份', '类别', '怎么', '填', '\\t', '最好', '的', '我们', '里面', '的', '方特', '在', '哪里', '\\t', '牢', '里面', '的', '生活', '是', '怎样', '的', '\\t', '强迫症', '有', '哪些', '表现', '\\t', '白袍', '法师', '暖', '暖', '图片', '\\t', '朋仇', '广场', '舞', '\\t', '小宇', '热游', '\\t', '蒸', '馒头', '的', '方法', '\\t', '狡滑', '的', '意思', '\\t', '黄石', '大冶', '东岳', '派出所', '服务', '电话', '\\t', '三国演义', '小说', '下载', 'txt', '\\t', 'http', ':', '/', '/', 'zxjhjc9088.1688', '.', 'com', '\\t', '松柏', '道馆', '\\t', '10.1', '高速', '免费', '几天', '\\t', '三国演义', '小说', 'txt', '\\t', '柔和', '双沟', '业务', '待遇', '\\t', '酵母', '蒸', '馒头', '的', '方法', '\\t', '初中', '家教', '一对一', '辅导', '\\t', '口子', '窖', '\\t', '中秋节', '祝福', '诗句', '\\t', '侠岚', '\\t', '文', '王国', '窖', '42', '度', '价格表', '1001', '文', '王国', '窖', '42', '度', '价格表', '\\t', '批注', '是', '什么', '意思', '\\t', '殿下', '专属', '小丫头', '\\t', '无锡', '爆炸', '\\t', '炸', '茄子', '做法', '\\t', 'http', ':', '/', '/', 'pan', '.', 'baidu', '.', 'com', '/', 's', '/', '1cor7gy', '\\t', '大件', '行李', '邮寄', '\\t', '烟火', '陈翔', '\\t', '没想到', ',', '真没想到', '作文', '\\t', '安徽', '滁州', '石坝', '镇', '\\t', '虎牙', '小宇', '\\t', '驾校', '培训', '跑', '长途', '\\t', '骨质', '性', '关节炎', '\\t', '左', '膝盖', '内侧', '疼', '是', '怎么回事', '\\t', '虎皮', '尖椒', '的', '做法', '大全', '\\t', '陈翔', '的', '女朋友', '吻照', '\\t', 'q', '我', '的', '世界', '、', '5', '\\t', '23.04', '的', '平方根', '\\t', '神将', '世界', '表情', '包', '\\t', '寻找', '成龙', '\\t', '柔和', '双沟', '卖', '的', '\\t', '三国演义', 'txt', '百度', '云', '\\t', '一般', '现在', '时', '\\t', '澳洲', '邮寄', '行李', '费用', '\\t', '触手', '若', '月', '\\t', '1991', '年', '11', '月', '26', '日', '是', '什么', '星座', '\\t', '校草', '成长', '记', '\\t', '暮光', '女', '向', '女友', '求婚', '\\t', '钢弩', '的', '价格', '图片', '\\t', '乐乐', '课堂', '\\t', '宠妻', '成瘾', '老婆', '你', '要', '乖', '\\t', '魔手', 'tv', '\\t', '梅河口', '到', '济南', '的', '火车票', '\\t', '临泉', '长官', '镇', '\\t', '君子兰', '\\t', '南洋', '十大', '邪术', '电影', '\\t', '肚', '\\t', '炸油条', '的', '做法', '和', '配方', '\\t', '根号', '6', '等于', '多少', '\\t', '笑笑', '昨日', '帝王', '骗', '\\t', '吃惊', '的', '什么', '填', '词语', '\\t', '50', '字', '教师节', '征文', '\\t', '朝阳区', '黑', '庄户', '邮编', '\\t', '千百', '鲁', '\\t', '1991', '年', '农历', '11', '月', '26', '日', '是', '什么', '星座', '\\t', '圣经', '和', '合本', '免费', '下载', '\\t', '水煮', '花生米', '的', '做法', '\\t', 'http', ':', '/', '/', 'pan', '.', 'baidu', '.', 'com', '/', 's', '/', '1jhbv9pg', '\\t', '十字', '弓', '\\t', '徽信', '表情', '含义', '\\t', '天才', '小熊猫', '微博长', '图', '\\t', '宠冠六宫', ':', '帝王', '的', '娇蛮', '皇妃', '\\t', '去', '广告', '软件', ' ', '安卓版', '\\t', '萌妻', '娇俏帝', '少', '我', '嘴', '挑', '\\t', '总裁', '霸爱', '小小', '新娘', '要', '逃婚', '\\t', '花生', '怎么', '煮', '好吃', '\\t', '中国', '证券网', '\\t', '柔和', '双沟', '销售', '\\t', '中秋节', '的', '诗句', '图片', '\\t', '男子', '怪病', '喝', '洗洁精', '\\t', '4', 'π', '等于', '多少', '\\t', '服装', '批发', '5', '元', '\\t', '怀孕', '33', '周', '肚子', '隐隐作痛', '怎么回事', '\\t', '百度', '云', '\\t', '酱', '炒', '蒜苔', '的', '家常', '做法', '\\t', '水煮', '花生米', '\\t', '天才', '小熊猫', '作品', '\\t', '袁姗姗', '\\t', '临泉', '长官', '镇桥口', '\\t', '呼作', '白玉', '盘', '的', '上', '一句', '\\t', '微信', '表情', '包', '搞笑', '图片', '\\t', '滴滴', '快车', '司机', '端', '\\t', '教师节', '手抄报', '简单', '好看', '\\t', '大冶', '公安局', ' ', '派出所', '\\t', '柔和', '双沟', '业务', '待遇', '怎么样', '\\t', '为什么', '哺乳期', '不会', '有', '月经', '\\t', '临泉', '长官', '水上', '乐园', '\\t', '忐忑不安', '的', '意思', '\\t', '临泉', '长官', '李小刚', '家庭', '农场', '\\t', '电信', '电子', '发票', '怎么', '报销', '\\t', '岳不群', '\\t', ':', 'http', ':', '/', '/', 'pan', '.', 'baidu', '.', 'com', '/', 's', '/', '1plefcb5', '\\t', '临泉', '长官', '镇桥口', '李', '天龙', '农场', '\\t', '凉拌', '水煮', '花生米', '的', '做法', '\\t', '威灵仙', '的', '功效', '与', '作用', '\\t', 'http', ':', '/', '/', 'pan', '.', 'baidu', '.', 'com', '/', 's', '/', '1o7hnpmy', '\\t', '鸽子', '汤', '的', '做法', '\\t', '战神', '伪高冷', ' ', '天降', '医妃', '拐', '回家', '\\t', '白颠', '疯', '初期', '症状', '\\t', '天才', '小熊猫', '\\t', '首席', '萌妻', '咬一口', '\\t', '弩弓', '枪', '商城', '\\t', '三国演义', '小说', '\\t', '临泉', '长官', '镇桥口', '植物', '养殖', '基地', '\\t', '邮储', '银行', '手机', '银行', '客户端', '下载', '\\t', '煮', '花米', '怎么', '做', '好吃', '\\t', '英语', '在线翻译', '\\t', '糖醋', '鲤鱼', '\\t', 'ｗ', 'ｗ', 'ｗ', '．', '２', '０', '１', '６', 'ｙ', 'ｇ', '．', 'ｃ', 'ｏ', 'ｍ', '\\t', '搞笑', '微信', '表情图片', '带字', '\\t', '新婚', '甜', '似火', ':', '鲜妻', ',', '二', '胎生', '一对', '\\t', '三国演义', '\\t', '关于', '教师节', '的', '手抄报', '\\t', 'http', ':', '/', '/', 'm37189', '.', 'mustfollow', '.', 'vx', '.', 'mvote', '.', 'net', '/', 'wx', '\\t', '文', '王国', '窖', '42', '度', '价格表', '\\t', '鱼汤', '的', '做法', '\\t', 'http', ':', '/', '/', 'www', '.', 'cswanda', '.', 'com', '/', 'weixin', '/', 'game1', '/', '2016', '\\t', '临泉', '长官', '镇桥口', '私人', '农场', '\\t', '临泉', '长官', '镇桥', '口镇', '杨营', '\\t', '临泉', '长官', '李', '天龙', '家庭', '农场', '\\t', '李子树', '根部', '有', '脓包', '怎么回事', '\\t', '单手', '高速', '转牌', '\\t', '医学院', '在', '什么', '路上', '\\t', '徽信', '早上好', '动态', '表情', '\\t', '宝宝', '小名', '大全', '2016', '洋气', '\\t', '寂寞', '男女', '聊天记录', '截图', '\\t', 'https', ':', '/', '/', 'yunpan', '.', 'cn', '/', 'oc6nhvmrg5j2ur', '\\t', '神将', '世界', '\\t', '美丽', '的', '秋天', '作文', '300', '字', '\\t', 'http', ':', '/', '/', 'pan', '.', 'baidu', '.', 'com', '/', 's', '/', '1nu9uizn', '\\t', '钢弩', '\\t', '冰川', '世纪', '电影', '\\t', '全文', '\\t', '触手', '蓝烟', '\\t', '鱼', '的', '做法', '\\t', '金罐', '加多宝', '20', '罐', '\\t', '澳洲', '托运', '行李', '规定', '\\t', '15346171303', '@', '189', '.', 'cn', '\\t', '炒', '蒜苔', '的', '家常', '做法', '\\t', '被', '时光', '掩埋', '的', '秘密', '\\t', '根号', '13.6', '等于', '几', '\\t', '方特', '东方', '神画', '\\t', '粉红', '花朵', '图片', '\\t', 'qq', '号', '申请', '\\t', '千亿', '盛宠', ' ', '大叔', '吻', '慢点', '\\t', 'http', ':', '/', '/', 'linjiada1989.1688', '.', 'com', '\\t', '东方', '财富网', '首页', '\\t', 'http', ':', '/', '/', 'pan', '.', 'baidu', '.', 'com', '/', 's', '/', '1hraemhe', '\\t', '动力', '煤', '价格', '\\t', '手机', '遥控', '魔棒', '\\t', 'jzg', '\\t', 'http', ':', '/', '/', 'pan', '.', 'baidu', '.', 'com', '/', 's', '/', '1o8cxpmm', '\\t', '行李', '托运', '到', '澳洲', '\\t', '蚬壳', '胃散', '副作用', '\\t', '红烧', '鲤鱼', '\\t', '触手', 'tv', '\\t', '中国', '财经', '信息网', '中财网', '\\t', '立方根', '800', '\\t', '美食', '菜谱', '\\t', '笑傲江湖', '电视剧', '\\t', '柔和', '双沟', '怎么样', '\\t', '笑傲江湖', '\\t', '花', '的', '品种', '名字', '及', '图片', '\\t', '滴滴', '司机', '端', '\\t', '奇怪', '君', '\\t', '鸡蛋', '灌饼', '\\t', '天龙', '农家乐', '园', '\\t', '吉', '拉拉', '歌词', '\\t', '陈翔', '的', '女朋友', '\\t', '牢解场', '的', '生活', '\\t', '微微一笑', '很', '倾城', '\\t', '豪门', '少奶奶', '谢少', '的', '心尖', '宠妻']),\n",
       "       list(['广州', '厨宝', '烤箱', '\\t', '世情', '薄', ',', '人情', '恶', ',', '雨送', '黄昏', '花易落', ',', '晓', '风干', ',', '泪痕', '\\t', '厦门', '酒店用品', '批发市场', '\\t', '我', '只是', '不想', '让', '你', '支付', ',', '原谅', '我', '的', '无情', ',', '对不起', '\\t', '处女座', '代表', '的', '花朵', '\\t', '烤', '鸡胸肉', '的', '做法', ' ', '烤箱', '\\t', '不曾', '忘记', ',', '也', '不曾', '想起', '\\t', '一辈子', '那么', '长', ' ', '一天', '没', '走', '到', '终点', '\\t', '联塑', 'pvc', '排水管', '规格', '表', '\\t', '大王', '椰', '\\t', '性格', '文静', '是', '什么', '意思', '\\t', '250ml', '牛奶', '用', '多少', '克', '奶粉', '冲', '\\t', '化蝶', '去', '寻花', ' ', '夜夜', '栖', '芳草', '什么', '意思', '\\t', '学会', '爱', '自己', ' ', '才', '会', '真正', '懂得', '爱', '1001', '学会', '爱', '自己', ' ', '\\t', '福睿斯', '\\t', '斗鱼', 'tv', '\\t', '厨宝', '是', '什么', '\\t', '厨宝', '烤箱', '\\t', '禹州', '城市', '广场', '电影院', '\\t', '大王', '棕树', '图片', '\\t', '王', '棕树', '图片', '\\t', '发酵', '箱', '\\t', '6920882798458', '\\t', '我', '只是', '不想', '让', '你', '支付', ',', '原谅', '我', '的', '无情', ',', '对不起', '10', '\\t', '你', '住', '的', '城市', '下雨', '了', ',', '很', '想', '问', '你', '有没有', '带伞', ' ', '可是', '\\t', '250ml', '牛奶', '用', '多少', '克', '奶粉', '\\t', '烤', '翅', '的', '做法', '烤箱', '\\t', '全脂奶粉', '泡', '的', '比例', '\\t', '牛肉', '怎么', '炒', '才', '嫩', '\\t', '厨宝牌', '是', '谁', '的', '\\t', '猴配', '猴', '的', '婚姻', '怎么样', '\\t', '可惜', '没', '如果', 'mv', '爱情', '公寓', '\\t', '守', '不住', '的', '才', '是', '个', '笑话', '\\t', '犯', '太岁', '是', '什么', '意思', '\\t', '禹州', '城市', '广场', '电影院', '1001', '禹州', '城市', '广场', '电影院', '\\t', '烤箱', '什么', '牌子', '好', '\\t', '全脂奶粉', '怎么', '泡', '\\t', '红', '铁人', '面粉', '蛋白质', '含量', '\\t', '你', '走', '后', '我', '却', '活成', '你', '的', '样子', '\\t', '鸡排', '的', '做法', '大全', '\\t', '放爱', '\\t', '斗鱼', '直播', '\\t', '糖浆', '怎么', '熬', '\\t', '鸡胸肉', '怎么', '烤', '\\t', '沙枣', '\\t', '轮胎', '的', '气压', '一般', '在', '多少', 'mp1003', '轮胎', '的', '气压', '一般', '\\t', '6933005900560', '\\t', '厨宝', '是', '谁', '的', '牌子', '\\t', '冰皮', '月饼', '用', '什么', '糯米粉', '\\t', '这', '一辈子', '不', '走', '出去', '永远都是', '零', '\\t', '1992', '年', '生肖', '猴', '配对', '\\t', '处女座', '和', '什么', '座', '最', '配对', '1001', '处女座', '和', '什么', '座', '最', '\\t', '我', '相信', '这个', '世界', '上', ',', '一定', '会', '有', '爱', '你', '的', '人', '\\t', '一个', '人', '的', '冒险', '一个', '人', '的', '作为', '\\t', '自欺欺人', '什么', '意思', '\\t', '虎牙', '直播', '\\t', '不', '联系', '你', '的', '人', '比', '你', '想像', '的', '不', '爱', '你', '1006', '不', '联系', '你', '\\t', '5000', '瓦一', '小时', '多少度', '电', '\\t', '鸡排', '的', '做法', '大全', '好吃', '\\t', '卡农', '的', '故事', '\\t', '陌上', '花开', '可', '缓缓', '归', '矣', '\\t', '被', '爱', '的', '人', '不用', '道歉', '是', '哪', '首歌', '名', '\\t', '这场', '婚礼', '你', '在', '我', '在', '这', '就', '足够', '了', '1001', '这场', '婚礼', '你', '\\t', '厨宝', '是', '谁', '的', '\\t', '人生', '若', '只', '如初', '见', ' ', '何事', '秋风', '悲画', '扇', '\\t', 'hiv', '\\t', '大', '耳朵', '图', '图', '图片', '\\t', '空间', '发', '视频', '怎么', '发', '\\t', '普洁', '厨宝', '官网', '\\t', '一辈子', '那么', '长', ' ', '一天', '没', '走', '到', '终点', '1001', '一辈子', '那', '?', '生肖', '猴', '配对', '\\t', '高筋', '面粉', '可以', '做', '什么', '吃', '\\t', '杨之华', '\\t', '林肯', '\\t', '处女座', '男生', '的', '特点', '感情', '\\t', '被', '爱', '的', '人', '有恃无恐', '\\t', '紫罗兰', '\\t', '学会', '爱', '自己', ' ', '才', '会', '真正', '懂得', '爱', '\\t', '王棕', '\\t', '龟头', '上', '有', '小红点', '儿', '\\t', '烤鸡肉', '的', '做法', ' ', '烤箱', '\\t', '邓超', '\\t', '其实', '我', '也', '明', '了', '对', '的', '人', '那么', '少', '\\t', '香菇', '鸡片', '的', '做法', '\\t', '5000', '瓦一', '小时', '多少度', '电', '10015000', '瓦一', '小时', '多少', '\\t', '黄油', '是', '什么', '\\t', '1688', '阿里巴巴', '批发网', '\\t', '和面机', '\\t', '茉香', '绿茶', '的', '泡法', '\\t', '意大利', '烟肉', '\\t', '厨宝', '\\t', '一个', '人', '的', '说', '说', '\\t', '曾经', '是', '什么', '意思', '\\t', '漫漫', '人生路', '下', '一句', '\\t', '冰皮', '月饼', '的', '做法', '及', '配方', '\\t', '分手', ',', '我', '再', '追', '你', '\\t', '6909640000644', '\\t', '可不可以', '不', '勇敢', '\\t', '厨宝', '烤箱', '价格表', '\\t', '处女座', '男生', '恋爱', '特点', '\\t', '鸡胸肉', '的', '做法', '大', '全家', '常', '\\t', '牛至', '是', '什么', '\\t', '香菇', '鸡块', '的', '做法', '\\t', '电池', '逆变器', '\\t', '联塑', '\\t', '来', '了', '就', '别', '走', '了', '\\t', '南瓜', '馅', '饺子', '的', '做法', '\\t', '蝴蝶', '兰花', '语', '\\t', '心寒', '是', '什么', '意思', '\\t', '人生', '总有', '太多', '的', '无奈', '和', '遗憾', '1001', '人生', '总有', '太多', '\\t', '拖拉机', '图片', '\\t', '其实', '我', '也', '明', '了', '对', '的', '人', '那么', '少', '1001', '其实', '我', '也', '明', '了', '\\t', '月饼', '皮', '和', '馅', '的', '比例', '\\t', '烤', '鸡胸肉', '的', '做法', '大全', '\\t', '这场', '婚礼', '你', '在', '我', '在', '这', '就', '足够', '了', '\\t', '一亿', '人民币', '有', '多重', '\\t', '生肖', '猴', '代表', '的', '花', '\\t', '轮胎', '的', '气压', '一般', '在', '多少', 'mp', '\\t', '和', '处女座', '男生', '恋爱', '注意', '\\t', '红', '铁人', '面粉', '\\t', '烤鸡肉', '的', '做法', '\\t', '触宝', '官网', '\\t', '福', '瑞斯', '\\t', '雅格', '丽板', '\\t', '打喷嚏', '测', '吉凶', '\\t', '沙棕', '\\t', '面包', '糠', '的', '做法', '\\t', '可惜', '没', '如果', 'mv', '\\t', '什么样', '的', '女人', '最', '容易', '出轨', '的', '女人', '\\t', '烤肉', '的', '做法', '\\t', '不', '确定', '的', '未来', '\\t', '爱情', '公寓', '可惜', '没有', '如果', '\\t', '红豆相思', '的', '诗句', '\\t', '月饼', '豆沙', '馅', '的', '做法', '\\t', '土司面包', '做法', '\\t', '人生', '总有', '太多', '的', '无奈', '和', '遗憾', '\\t', '不', '联系', '你', '的', '人', '比', '你', '想像', '的', '不', '爱', '你', '\\t', '曾经', '有', '一份', '真挚', '的', '爱情', '摆在', '我', '面前', '\\t', '牛', '至', '怎么', '种', '\\t', '全脂奶粉', '怎么', '冲', '\\t', '罗勒', '图片', '\\t', '罗勒', '种子', '怎么', '种', '\\t', '胡子', '长得', '快', '是', '什么', '原因', '\\t', '不曾', '走过', ' ', '怎', '会', '懂得', '\\t', '什么', '一样', '滑', '\\t', '烤鱼', '烤箱', '温度', '和', '时间', '\\t', '厨宝牌', '烤箱', '\\t', '分手', ' ', '我', '重新', '追', '你', '\\t', '鸡胸肉', '的', '做法', '\\t', '猴子', '头像', '简笔画', '\\t', '朋友圈', '怎么', '发', '视频', '\\t', '厨宝', '烤箱', '是', '谁', '的', '牌子', '\\t', '生日', '当天', '相亲', '\\t', '意大利', '烟肉', '是', '什么', '\\t', '珍珠奶茶', '\\t', '南瓜', '馅', '的', '做法', '\\t', '这', '一辈子', '不', '走', '出去', '永远都是', '零', '1002', '这', '一辈子', '不', '\\t', '手扶拖拉机', '\\t', '猴子', '的', '头像', '\\t', '像', '椰子树', '又', '不是', '椰子树', '是', '什么', '\\t', '手机', '空间', '发', '视频', '怎么', '发', '\\t', '今年', '成人高考', '时间', '\\t', '茉香', '绿茶', '\\t', '酒店用品', '批发市场', '\\t', '冰皮', '月饼', '南瓜', '馅', '的', '做法', '\\t', '虎牙', '直播', '在线', '观看', '\\t', '红', '铁人', '面粉', '蛋白质', '\\t', '你', '的', '月亮', '我', '的', '心', '\\t', '奥尔良', '烤', '翅', '的', '做法', '\\t', '轮胎', '的', '气压', '一般', '在', '多少', '\\t', '杨志华', '\\t', '人工', '黄油', '是', '什么', '\\t', '相思', '的', '诗句', '\\t', '文静', '的', '意思', '\\t', '处女座', '和', '什么', '座', '最', '配对', '\\t', '罗勒', '\\t', '手碰水', '起皱', '什么', '原因', '\\t', '茉香', '绿茶', '的', '做法', '\\t', '冰皮', '月饼', '的', '做法', '\\t', '我', '相信', '这个', '世界', '上', '一定', '会', '有', '一个', '你', '爱', '的', '人', '\\t', '雅虎', '直播', '\\t', '波导', 'l902', '\\t', '泉州', '酒店用品', '批发市场', '\\t', '昔年', '是', '什么', '意思', '\\t', '烤', '蛋黄', '的', '温度', '\\t', '4009200530', '\\t', '朋友', '再见', '吧', '再见', '吧', '是', '什么', '歌']),\n",
       "       list(['钻石', '之泪', '耳机', '\\t', '盘锦', '到', '沈阳', '\\t', '旅顺', '公交', '\\t', '辽宁', '阜新', '车牌', '\\t', 'baidu', '\\t', 'k715', '\\t', 'k716', '\\t', '盘锦', '到', '台安', '\\t', '网游', '之', '永生', '\\t', '网游', '之', '\\t', '辽中', '到', '北镇', '\\t', '大连', '到', '盘锦', '\\t', '炮神', '\\t', '燕窝', '\\t', '霉菌性', '阴道炎', '外敷', '\\t', '天佑', '快手', '\\t', '东北', '项目', '\\t', '旅顺', '商场', '规划', '\\t', '东北', '项目', '具体', '\\t', '大连', '到', '山海关', '\\t', '赤峰', '到', '通辽', '\\t', '大连', '到', '长沙', '\\t', '王小源', '快手', 'id', '多少', '\\t', '网盘', '搜索', '软件', '\\t', '前', '国脚', '张玉宁', '近况', '\\t', '特比', '萘芬', '乳膏', '\\t', '全球', '公共', '采购', '\\t', '济广', '高速', '\\t', '任航', '\\t', '浩克', '\\t', '雷克萨斯', 'nx300h', '价格', '\\t', '便秘', '立马', '拉屎', '\\t', '一个', '手机号', '注册', '俩', '微信', '\\t', '便秘', '吃', '什么', '最快', '排便', '\\t', '网游', '小说', '\\t', '网游', '小说', '排行榜', '完本', '\\t', '酒', '驾加', '无证', '驾驶', '\\t', '校园', '篮球风云', '第二季', '\\t', '海城', '到', '沟帮子', '\\t', '大石桥', '到', '沈阳', '\\t', '大连', '一方', '\\t', '网盘', '搜索', '\\t', '阿鲁科尔沁旗', '到', '通辽', '\\t', '王小源', '快手', 'id', '\\t', '大连', '民意', '\\t', '大连', '地铁', '吧', '\\t', 'mc', '天佑', '\\t', '王宝强', '\\t', '狮子山', '台风', '路径', '\\t', '苹果', '7', '合约', '套餐', '\\t', '开塞露', '\\t', '便秘', '喝', '盐水', '\\t', '校园', '篮球风云', '\\t', '大庆', '到', '锦州', '\\t', '天山', '到', '通辽', '\\t', '网游', '之', '长生', '\\t', '刘公岛', '\\t', '网盘', '007', '\\t', 'box', '网盘', '\\t', 'sina', '\\t', '凌志', 'nx300', '\\t', '命运', '刻', '在', '我', '手心', '\\t', '胡', '尔克', '胡', '尔克', '\\t', '法库', '到', '沟帮子', '\\t', '凌志', ' ', '雷克萨斯', 'nx300', '\\t', '扎哈维', '\\t', '便秘', '\\t', '天佑', '快手', 'id', '\\t', '沈阳', '到', '哈尔滨', '\\t', '沈曼', '\\t', '苹果', '7', '合约', '机', '\\t', '台安', '到', '盘锦', '北', '\\t', '辽中', '到', '沟帮子', '\\t', '流浪', '流浪', ' ', '爱', '原来', '是', '片', '海洋', ' ', '飘飘荡荡', '我', '望眼', '欲', '\\t', '网游', '之逆天', '戒指', '\\t', '霉菌性', '阴炎', '男', '的', '用', '什么', '药', '\\t', '网盘', '收费', '\\t', '霉菌性', '阴炎', '能', '自愈', '吗', '\\t', '任航', '背景', '\\t', '鞍山', '到', '沟帮子', '\\t', '网盘', '资源', '\\t', '天佑', '上', '大学', '教材', '\\t', '烟', '大', '海底隧道', '\\t', '佳泰', '前台', '内线', '电话', '\\t', '沈阳', '到', '吉首', '\\t', '网盘', '\\t', '网游', '之神级', '机械', '猎人', '\\t', '开鲁', '到', '通辽', '\\t', '大连', '202', '轻轨', '\\t', '大连', '地铁', '\\t', '佳泰', '前台', '电话', '\\t', 't131', '\\t', '天佑', '\\t', '盐酸', '特比', '萘芬片', '\\t', '商场', '小说', '\\t', '便秘', '怎么办', '快速', '解决', '\\t', '旅顺', '公交', '规划', '\\t', '皇族', '天赐', '\\t', '万达', '落户', '旅顺', '\\t', '网游', '之邪', '龙逆天', '\\t', '济广', '高速', '飞机', '坠落', '\\t', '胡', '尔克', '\\t', '任航', '续约', '\\t', '旅顺', '新开', '的', '商场']),\n",
       "       ...,\n",
       "       list(['英文翻译', '\\t', '幼儿园', '面试', '讲课', '\\t', '学前教育', '书', '第二', '版', '\\t', 'shock', ' ', 'to', '\\t', '幼儿园', '教师', '资格证', '面试', '讲课', '\\t', '设计', '签名', '免费', '艺术', '签名', '\\t', '较', '好', '的', '信誉', ' ', '英文', '\\t', '学校', '的', '英文', '\\t', '开学', '了', '的', '说', '说', '\\t', '学校', '\\t', '麻辣', '香锅', '的', '家常', '做法', '\\t', '幼儿园', '教师', '资格证', '面试', '真题', '及', '问答', '\\t', '命中注定', '\\t', '新', '一天', '的', '图片', '\\t', '双眼皮', '半年', '了', '还有', '刀印', '\\t', '幼儿园', '教师', '资格证', '面试', '真题', '\\t', '依恋', '类型', '特征', '\\t', 'diy', '图片', '\\t', '上', '睑下垂', '手术', '后遗症', '\\t', 'companion', '\\t', '割', '双眼皮', '半年', '恢复', '图', '\\t', '对', '我', '好', '的', '人', '我会', '加倍', '对', '他', '好', '的', '句子', '\\t', 'server', '\\t', '支付宝', '下载', '\\t', '乌鸦', '图片', '大全', '\\t', '淘宝网', '\\t', 'occupation', '\\t', '唐山', '丰润', '天气预报', '\\t', '我', '有', '很', '强', '的', '责任心', ' ', '英文', '\\t', 'inferior', '\\t', 'servant', '\\t', '拉完', '双眼皮', '半年', '了', '还有', '印子', '\\t', '以后', '的', '日子', '里', '回忆起', '现在', '自己', '能', '感动', '自己', '\\t', '唐山', '师范学院', '玉田', '分校', '\\t', '我', '十分', '希望', '你', '能', '参加', ' ', '英文', '\\t', '高楼', '现', '空中', '违建', '\\t', '星座', '查询', '\\t', '迎接', '新', '的', '一天', '的', '图片', '\\t', '我能', '每次', '主动', '找', '你', ',', '是因为', '曾经', '你', '在', '我', '心里', '有', '?', 'oppo819', '\\t', 'deserved', '\\t', '起', '的', '早睡', '的', '晚', '英文', '\\t', 'reward', '\\t', 'client', ' ', 'to', '\\t', 'acquaintance', '\\t', '为什么', '拉完', '双眼皮', '半年', '了', '还有', '印', '\\t', '割', '双眼皮', '半年', '了', '还是', '肿', '\\t', '上海', '离婚', '买房', '疯狂', '\\t', 'evident', '\\t', '命中注定', '电影', '\\t', 'professional', '\\t', '攒', '你', '的', '说', '说', '并', '不是', '因为', '你', '写', '的', '有', '多', '好', '\\t', '励志', '图片', '\\t', '为什么', '拉完', '双眼皮', '半个', '月', '了', '还有', '印', '\\t', '幼儿', '依恋', '的', '类型', '\\t', '上', '睑下垂', '手术', '为什么', '这么', '假', '\\t', '王宝强', '财产', '分割', '\\t', '总留', '鼻血', '是', '怎么回事', '\\t', '对', '我', '好', '点认', '我', '都', '会', '记着', '\\t', 'client', '\\t', '手机', '淘宝网', '\\t', '一切', '都', '会', '好', '起来', '的', '用', '英语', '怎么', '说', '\\t', '生产', '很痛', '吗', '\\t', '你', '能', '当', '我们', '的', '主持人', '\\t', '我能', '吃苦', ' ', '英文', '\\t', '上', '睑下垂', '矫正', '\\t', '星座', '运势', '\\t', '幼儿园', '教师', '资格证', '面试', '视频', '\\t', '加油', ' ', '英语', '\\t', '胜任', '这份', '工作', '英文', '\\t', 'sever', '\\t', 'graduate', '\\t', '我', '非常', '喜欢', '贵', '公司', '英语', '\\t', '你', '能', '当', '我们', '的', '主持人', ' ', '英文', '\\t', '转身', '漂亮', '有', '气度', '\\t', '淘宝', '商城', '\\t', '邯郸', '学院', '\\t', '学前教育', '书', '黄人颂', '第二', '版', '\\t', 'easman', '是', '什么', '牌子', '\\t', '上', '睑下垂', '手术', '效果', '\\t', '永夜', '君王', '\\t', '每逢佳节倍思亲', '全诗', '\\t', '开学', '了', '希望', '这一', '学期', '活成', '我', '想要', '的', '人', '\\t', '摩羯座', '\\t', 'eastman', '手表', '价格', '\\t', '文秘', '英语', '\\t', '南昌大学', '\\t', '起', '的', '晚', '英文', '\\t', '接产', '是', '男医生', '\\t', '上', '睑下垂', '手术', '半年', '了', '还有', '印子', '\\t', '对', '我', '好', '的', '人', '我', '都', '会', '记着']),\n",
       "       list(['哈尔滨', '祖研', '中', '医院地址', '\\t', '指甲盖', '侧面', '的', '肉', '怎么', '是', '白色', '\\t', '补', '骨质', '有', '副作用', '吗', '\\t', '哈尔滨', '去', '呼兰', '\\t', '黑龙江', '祖研', '中医院', '\\t', '吃', '什么', '补', '骨质', '\\t', '胡麻', '仁是', '黑芝麻', '吗', '\\t', '白', '蒺藜', '图片', '\\t', '转移因子', '胶囊', '\\t', '肇东', '到', '富锦', '\\t', '中药', '补', '骨质', '可以', '直接', '服用', '吗', '\\t', '白', '蒺藜', '子', '多少', '钱', '一斤', '\\t', '中药', '做', '药丸', '\\t', '白', '蒺藜', '多少', '钱', '一克', '\\t', '肇东', '有', '卖', '他克莫司', '软膏', '的', '吗', '\\t', '哈尔滨', '到', '富锦', '火车', '时刻表', '\\t', '手指', '肚有', '竖纹', '怎么回事', '\\t', '免疫力', '低', '白癜风', '\\t', '白', '蒺藜', '对', '白癜风', '的', '作用', '\\t', '熟地', '的', '功效', '与', '作用', '\\t', '肇东', '有', '卖白', '蒺藜', '子', '的', '吗', '\\t', '黑龙江', '祖研', '中医院', '治', '白癜风', '\\t', '中药', '制成', '药丸', '效果', '\\t', '祖研治', '白癜风', '\\t', '治疗', '白癜风', '什么', '偏方', '好使', '\\t', '哈尔滨', '到', '富锦', '客车', '时刻表', '\\t', '电子书', '排行榜', '\\t', '胡麻', '仁和', '火麻仁', '的', '区别', '\\t', '白', '蒺藜', '的', '功效', '与', '作用', '\\t', '黑芝麻', '的', '功效', '与', '作用', '及', '禁忌', '\\t', '口服', '中药', '补', '骨质', '治', '白癜风', '行', '吗', '\\t', '肇东', '到', '克山', '火车', '\\t', '哪一年', '哪一天', ' ', '你', '在', '我', '心里', '\\t', '哈尔滨', '站', '前', '客运站', '有如', '富锦', '的', '客车', '吗', '\\t', '白癜风', '偏方', '白', '蒺藜', '子', '\\t', '手指', '盖', '侧面', '长', '白癜风', '了', '\\t', '500', '克是', '多少', '斤', '\\t', '补', '骨质', '能', '直接', '口服', '吗', '\\t', '你', '在', '我', '心里', '\\t', '桃红', '血清', '丸', '\\t', '独活', '的', '功效', '与', '作用', '\\t', '赵', '袖珍', '\\t', '白癜风', '偏方', '\\t', '祖研', '皮肤科', '治', '白癜风', '\\t', '白', '蒺藜', '治疗', '白斑', '\\t', '黄蓉', '\\t', '手指', '肚有', '白印', '\\t', '白癜风', '偏方', '香蕉皮', '\\t', '中药', '补', '骨质', '一顿', '能', '吃', '多少', '\\t', '中药', '人参', '多少', '钱', '一克', '\\t', '肇东', '哪家', '药店', '能', '做', '药丸', '\\t', '当归', '多少', '钱', '一斤', '\\t', '独活', '多少', '钱', '一斤', '\\t', '肇东', '到', '佳木斯', '火车', '时刻表', '\\t', '指甲盖', '下长', '白癜风', '\\t', '阿胶', '多少', '钱', '一克', '是', '正品', '\\t', '指甲盖', '下面', '的', '指甲', '肚', '\\t', '小米', '5', '\\t', '中药', '补', '骨质', '能', '吃', '吗', '\\t', '地赛', '米', '松', '乳膏', '\\t', '音符', '符号', '图案', '大全', '\\t', '中药', '补', '骨质', '怎么', '吃', '\\t', '免疫力', '低', '白癜风', '偏方', '\\t', '肇东', '有能', '做', '中药', '药丸', '的', '地方', '吗', '\\t', '肇东', '到', '哈市', '高铁', '列车表', '\\t', '哈尔滨', '去', '呼兰', '的', '客车', '\\t', '哈尔滨', '去', '呼兰', '做', '什么', '车', '\\t', '牛仔', '超短裙', '图片', '\\t', '小米', '5s', '\\t', '胡麻', '仁', '多少', '钱', '一斤', '\\t', '口服', '中药', '补', '骨质', '一次', '吃', '多少', '一天', '几次', '\\t', '祖研', '皮肤科', '\\t', '肇东', '到', '呼兰', '火车', '时刻表', '查询', '\\t', '南岗', '客运站', '在', '哪', '\\t', '白', '蒺藜', '子', '的', '功效', '与', '作用', '\\t', '白', '蒺藜', '子有', '卖', '的', '吗', '\\t', '同房', '勤', '了', '会', '有', '什么', '影响', '\\t', '阿胶', '有', '什么', '作用', '\\t', '黄榕', '陈小春', '\\t', '补', '骨质', '能', '吃', '吗', '\\t', '尿', '尿', '白癜风', '疼', '\\t', '白', '蒺藜', '的', '功效', '与', '作用', '及', '禁忌', '\\t', '补骨脂', '的', '功效', '与', '作用', '\\t', '不育症', '\\t', '哈尔滨', '站', '前', '客运站', '\\t', '口服', '补', '骨质', '治', '白癜风', '行', '吗', '\\t', '手指', '上长', '白癜风', '\\t', '白', '蒺藜', '子', '多少', '钱', '一斤', '1001', '白', '蒺藜', '子', '多少', '钱', '一斤', '\\t', '白癜风', '喝白', '蒺藜', '\\t', '脾虚', '白癜风', '\\t', '当归', '的', '功效', '与', '作用', '\\t', '赵秀珍', '皮肤病', '医院地址', '\\t', '孰地', '多少', '钱', '一斤', '\\t', '胡麻', '仁', '的', '功效', '与', '作用', '\\t', '地赛', '米', '松', '\\t', '哈市', '到', '富锦', '火车', '\\t', '肇东', '去', '呼兰', '有', '客车', '吗', '\\t', 'b2', '驾驶证', '科四考', '什么', '\\t', '白', '蒺藜', '口服', '治', '白癜风', '怎么样', '\\t', '富锦', '客车', '时刻表', '\\t', '哈尔滨', '站', '前', '客运站', '去', '富锦', '都', '有', '几点', '的', '车', '\\t', '正品', '阿胶', '多少', '钱', '一斤', '\\t', '哈尔滨', '祖研', '中医院', '\\t', '脾虚', '的', '症状', '\\t', '音符', '图片', '\\t', '微信名', '表情', '图案', '\\t', '哈市', '到', '富锦', '的', '火车', '\\t', '调节', '内分泌', '的', '方法', '\\t', '口服', '中药', '补', '骨质', '治疗', '白癜风', '\\t', '肇东', '到', '克东', '火车', '时刻表', '\\t', '三星', 'a7', '\\t', '哪一年', '你', '在', '我', '心里']),\n",
       "       list(['陈翔', '毛晓彤', '分手', '\\t', '青春偶像', '剧', '校园', '电影', '\\t', '九尾狐', '家族', '\\t', '王俊凯', '小说', '\\t', '女娲', '的', '成长', '日记', '女娲', '变', '身', '\\t', '闺蜜', '头像', '吧', '\\t', '微微一笑', '很', '倾城', '电视剧', '有', '几集', '\\t', '吸血鬼', '公主', '之', '三世', '绝恋', '\\t', '动漫', '女娲', '成长', '日记', '中', '伏羲', '是', '那集', '出现', '的', '\\t', '混血儿', '香奈儿', '\\t', '金牛座', '今日', '运势', '分析', '\\t', '阳历', '是', '农历', '吗', '\\t', '重庆', '观音桥', '韩国', '烤肉', '\\t', '皮卡丘', '是', '什么', '动物', '\\t', '合川', '中学', '初', '2015', '级', '贴', '吧', '\\t', '饶雪漫', '沙漏', '电影', '完整版', '\\t', '陈翔', '示爱', '毛晓彤', '\\t', '关于', '兄妹', '恋', '的', '偶像剧', '\\t', '郭俊辰', '谭松韵', '\\t', '王源', '小说吧', '\\t', '嘘', '进行', '培训', '\\t', '王芷璇', '\\t', '重庆', '观音桥', '韩', '美味', '\\t', '四公里', '自助餐', '\\t', '相爱', '穿梭', '千年', '22', '\\t', 'tfboys', '新', '成员', '刘俊昊', '\\t', '小宠', '\\t', '拜托', '了', '学妹', '\\t', '王源', '甜馨', '小说吧', '\\t', '什么', '时候', '穿', '风衣', '\\t', '三七分', '刘海', '女生', '发型', '\\t', '31', '岁', '的', '女人', '还', '离过婚', '可以', '去', '当', '明星', '吗', '\\t', '闺蜜', '动漫', '头像', '\\t', '温心', '\\t', '酸奶', '能', '冻成', '冰', '吗', '\\t', '重庆', '合川', '中学', '\\t', '伏羲女娲', '第一集', '\\t', '合川', '中学', '初', '2014', '级', '贴', '吧', '\\t', '女娲', '成长', '日记', '动漫', '伏羲', '是', '几集', '出现', '的', '\\t', '黄云翔', '\\t', '有', '谁', '认识', '黄云翔', '\\t', '家有', '萌妻', '腹黑', '老师', '哪里', '逃', '\\t', '肯德基', 'wow', '桶', '有', '什么', '\\t', '泡沫', '之夏', '电影', '\\t', '徐碧城', '\\t', '陈乔恩', '微博', '\\t', '韩系', '女生', '头像', '\\t', '叶子', '宇', '\\t', '我们', '的', '少年时代', '\\t', '神奇', '宝贝', '皮卡丘', '配音', '\\t', '微微一笑', '很', '倾城', '电视剧', '\\t', '崔若涵', '\\t', '板', '鞋配', '什么', '\\t', '沦陷', '\\t', '宋仲基', '承认', '恋情', '\\t', '张雪迎', '\\t', '加油', '网球王子', '\\t', '陈妍希', '陈晓舌', '吻', '\\t', '早上', '吃', '红', '火龙果', '好', '嘛', '\\t', '合川', '中', '学校', '花', '\\t', '陈翔', '承认', '恋情', '\\t', '雪炫', '承认', '恋情', '\\t', '快', '穿', '之', '拯救', '男配', '\\t', '找', '一个', '叫', '张艺', '的', '合川', '的', '\\t', '宝莲灯', '\\t', '青春偶像', '剧', '校园', '电视剧', '\\t', '青梅竹马', '的', '宠文', '\\t', '茧', '镇', '奇缘', '\\t', '张翰', '郑爽', '\\t', '宋茜', '杨洋', '\\t', '重庆', '观音桥', '猫爪', '烤肉', '\\t', '美国', '出轨', '电视剧', '\\t', '王俊凯', '婚后', '小说', '\\t', '陈翔', '毛晓彤', '恋情', '\\t', '关于', '兄妹', '恋', '的', '电视剧', '\\t', '重庆', '观音桥', '自助餐', '便宜', '\\t', '吸血鬼', '骑士', '第三季', '\\t', '相爱', '穿梭', '千年', '2', '\\t', '王俊凯', '的', '女朋友', '李佳宁', '\\t', '偶滴', '歌神', '在', '那个', '电视台', '播出', '\\t', '印度', '好听', '的', '经典歌曲', '\\t', '微胖', '女生', '适合', '什么', '短发', '\\t', '女娲', '的', '成长', '日记', '分', '集', '剧情', '\\t', '重庆', '观音桥', '自助餐', '\\t', '张翰', '郑爽', '2016', '\\t', '合川', '中学', '初', '2012', '级', '贴', '吧', '\\t', '张', '彬彬', '\\t', '不要', '流量', '的', '手机游戏', '\\t', '顾漫', '小说', '改编', '的', '电视剧', '\\t', '浪漫', '总是', '这样', ' ', '一面', '再', '消失', '\\t', '雾', '霾', '刘海', '\\t', '马思纯', '\\t', '暴走', '法条', '君', '收视率', '\\t', '重庆', '万达', '电影院', '影讯', '\\t', '粉色', '韩系', '女生', '头像', '\\t', '王源', '王俊凯', '肉文', '\\t', '自负', '的', '人', '的', '特点', '\\t', '秋天', '是', '什么', '时候', '\\t', '混血儿', '香奈儿', '和', '王俊凯', '\\t', '王俊凯', '的', '女朋友', '\\t', '神奇', '宝贝', '裂空', '的', '访问者', '的', '歌', '\\t', '毛晓彤', '\\t', '女娲', '成长', '日记', '伏羲', '是', '谁', '\\t', '爱情', '果冻', '电视剧', '全集', '\\t', '刘志宏', '\\t', 'trouble', ' ', 'maker', '音译', '\\t', '天天向上', '罗夏恩', '哪', '一期', '\\t', '刘俊昊', '\\t', '动漫', '女娲', '成长', '日记', '中', '伏羲', '是', '哪集', '出现', '的', '\\t', '关雎', '尔', '\\t', '花', '开', '半夏', '如风', '亲吻', '如画', '额头', '的', '是', '哪集', '\\t', '重庆', '五里店', '两江', '学院', '姚远', '皓', '\\t', '幸福', '百分百', '\\t', '温思', '\\t', '动漫', '女娲', '成长', '日记', '动漫', '伏羲', '\\t', '沙漏', '电影', '\\t', '冤家', '衣解布', '一截', '\\t', '胖', '瓜子脸', '适合', '什么', '发型', '\\t', '胸', '变硬', '了', '怎么回事', '\\t', '王源', '甜馨', '\\t', '合川', '中学', '谁', '长得帅', '\\t', '龙日一', '你', '死定了', '\\t', '杨洋', '宋茜', '\\t', '王俊凯', '\\t', '王俊凯', '肉', '小说', '\\t', '王俊凯', '小说', '肉片', '段', '\\t', 'kai', '郑秀晶', '恋情', '\\t', '女娲', '成长', '日记', '动漫', '风', '小小', '变身', '是', '那集', '\\t', '中国', '关于', '音乐', '的', '综艺', '有', '哪些', '\\t', '亲爱', '的', '公主', '病', '小说', '\\t', '嗜虐', '成性', '\\t', '爱神', '的', '黑白', '羽翼', '\\t', '新出', '的', '电影', '\\t', '微胖', '女生', '适合', '什么', '发型', '\\t', '张', '彬彬', '女友', '\\t', '会痛', '的', '十七岁', '\\t', '算命', '\\t', '找', '一个', '叫', '张艺', '的', '\\t', '火龙果', '的', '功效', '与', '作用', '\\t', 'exo', '小', '葡萄', '\\t', '小宝', '\\t', '王俊凯', '先', '说', '吧', '\\t', '武林', '外传', '中', '佟湘玉', '丢', '玉佩', '是', '哪集', '\\t', '渡江', '张弼', '翻译', '\\t', '花', '开', '半夏', '\\t', '王源', '小说吧', '虐心版', '\\t', '不', '生气', '的', '智慧', '\\t', '锦衣', '夜行', '电视剧', '\\t', '吸血鬼', '骑士', '小说', '\\t', '女娲', '成长', '日记', '伏羲', '变', '身', '\\t', '女娲', '成长', '日记', '伏羲', '图片', '\\t', '邱', '星星', '\\t', '龙日一', '你', '死定了', '电视剧', '\\t', '夏至', '未至', '\\t', '杨沛宜', '\\t', '公讳', '希亮', '字', '公弼', '\\t', '宋妍', '霏', '个人资料', '\\t', '陈妍希', '陈晓', '\\t', '翡翠', '恋人', '\\t', '合川', '中学', '初', '2016', '级', '吧', '\\t', '一丘之貉', '什么', '意思', '\\t', '有', '谁', '认识', '合川', '中学', '的', '黄云翔', '\\t', '金', '娜娜', '\\t', '华丽', '的', '外出', '\\t', '自负', '是', '什么', '意思', '\\t', '亲爱', '的', '公主', '病', '小说', '阅读', '\\t', '元气', '少女', '缘', '结神', '第三季', '\\t', '好看', '的', '内地', '偶像剧', '\\t', '龙日一', ',', '你', '死定了', '\\t', '你', '所', '盛开', '清风', '自来', '\\t', '王子', '文', '贾乃亮', '分手', '原因', '\\t', '张翰', '古力', '娜', '扎', '\\t', 'mrmr', '音译', '歌词', '\\t', '亲爱', '的', '公主', '病', '小说', '在线', '\\t', '不', '一样', '的', '美男子', '2', '\\t', '好看', '的', '青梅竹马', '宠文', '\\t', '蒲公英', '之恋', '\\t', '宋茜', '海报', '李', '爱国', '\\t', '神奇', '宝贝', '裂空', '的', '访问者', '\\t', '金牛座', '今日', '运势', '\\t', '动漫', '女娲', '成长', '日记', '中', '伏羲', '\\t', '乔任', '梁', '\\t', '慕容', '云朵', '\\t', '皮卡丘', '是', '什么', '意思', '\\t', '张子枫', '\\t', '沙漏', '电影', '什么', '时候', '上映', '\\t', '王俊凯', '吸血鬼', '小说', '\\t', '徐碧城', '唐', '山海', '\\t', '顾漫', '的', '小说', '\\t', '2016', '最新', '网络', '头像', '\\t', '安慕希', '酸奶', '冻成', '冰', '好吃', '吗', '\\t', '占有欲', '\\t', '联通', '领', '流量', '\\t', '内地', '校园', '青春偶像', '剧', '\\t', '重生', '之独', '宠无二', '\\t', '新闻', '当事人', '宋茜', '是', '什么', '时候', '\\t', '日全食', '多少', '年', '一次', '\\t', '观音桥', '自助', '烤肉', '\\t', '谭松韵', '\\t', '特工', '皇妃', '\\t', '头像', '吧', '\\t', '小', '魔仙', '之', '黑魔法', '来袭', '\\t', '王源', '甜馨', '小说', '\\t', '我', '的', '女神', '我', '的', '妈', '\\t', '合川', '中学', '陈世杰', '\\t', '饕餮', '盛宴', '\\t', '高中', '考试', '满分', '多少', '\\t', '渡江', '翻译', '\\t', '重庆', '合川', '中', '学校', '花', '\\t', '观音桥', '自助餐', '\\t', '开心', '的', '歌曲', '\\t', '联通', '可以', '免费', '领', '流量', '吗', '\\t', '一日', '夫妻', '百日', '恩', '\\t', '旋风', '少女', '第二季', '星耀', '\\t', '伏羲女娲', '成长', '日记', '伏羲', '是', '那集', '出现', '的', '\\t', '邱', '莹莹', '\\t', '郑秀晶', 'kai', '\\t', '顶楼', '的', '大象', '\\t', '三七分', '刘海', '女生', '发型', '短发', '\\t', '小', '葡萄', '\\t', '黑脸', '是', '什么', '\\t', '王子', '文', '资料', '\\t', '绝对', '侵占', '腐书网', '\\t', '加油', '网球王子', '薛之谦', '\\t', '遇见', '王沥川', '\\t', '宋茜', '还', '参加', '了', '中国', '的', '哪些', '综艺', '\\t', '早上', '吃', '火龙果', '好', '吗', '\\t', '神奇', '宝贝', 'mega', '裂', '空座', '\\t', '新闻', '当事人', '宋茜', '跟', '谁', '一起', '采访', '的', '\\t', '杨洋', '杨昊', '\\t', '爱情', '果冻', '\\t', '陈伟霆', '电影', '\\t', '什么', '是', '三七分', '刘海', '\\t', '小', '彩旗', '\\t', '李多海', '\\t', '神奇', '皮卡丘', '\\t', '红', '火龙果', '的', '功效', '与', '作用', '\\t', '合川', '中学', '2017', '级', '校花', '\\t', '网络', '头像', '女生', '\\t', '顾漫', '小说', '\\t', '仲夏夜', '之恋', '\\t', '夏至', '未至', '电视剧', '\\t', '朴诗妍', '\\t', '杨洋', '宋茜', '恋情', '是', '真的', '吗', '\\t', '王俊凯', '的', '女朋友', '是', '谁', '\\t', '暴走', '法条军', '在', '电视', '哪里', '可以', '观看', '\\t', '锦衣', '夜行', '\\t', '五十', '度', '灰', '\\t', '旋风', '少女', '第二季', '\\t', '赵美然', '\\t', '我', '的', '青春', '谁', '做主', '\\t', '亲爱', '的', '公主', '病', '小说', '原名', '\\t', '你', '呀', '上瘾', '了', '\\t', '茧', '镇', '奇缘', '为什么', '不播', '\\t', '旋风', '少女', '第二季', '星耀', '是', '谁', '\\t', '伏羲女娲', '成长', '日记', '\\t', '观音桥', '便宜', '的', '自助餐', '\\t', '皮卡丘', '萌图', '\\t', '好看', '的', '校园', '偶像剧', '\\t', '胖脸', '女生', '最佳', '短发', '发型', '\\t', '隐藏', '的', '歌手', '在', '那个', '电视', '播出', '\\t', '这个', '女', '的', '谁', '认识', '\\t', 'xinel', '\\t', '2345', '影视', '大全', '\\t', '任娜', '英', '\\t', '袁雨', '萱', '个人资料', '\\t', 'wifi', '停用', '是', '什么', '意思', '\\t', '微微一笑', '很', '倾城', '\\t', '查', '快递', '单', '号', '\\t', 'nct', '组合'])],\n",
       "      dtype=object)"
      ]
     },
     "execution_count": 53,
     "metadata": {},
     "output_type": "execute_result"
    }
   ],
   "source": [
    "train['jieba_cut'].values"
   ]
  },
  {
   "cell_type": "code",
   "execution_count": 37,
   "metadata": {},
   "outputs": [],
   "source": [
    "train.to_csv('train_210217.csv')"
   ]
  },
  {
   "cell_type": "markdown",
   "metadata": {},
   "source": [
    "## word statistics"
   ]
  },
  {
   "cell_type": "code",
   "execution_count": 54,
   "metadata": {},
   "outputs": [],
   "source": [
    "word_list = [item for sublist in train['jieba_cut'].values for item in sublist]"
   ]
  },
  {
   "cell_type": "code",
   "execution_count": 55,
   "metadata": {},
   "outputs": [
    {
     "data": {
      "text/plain": [
       "69026647"
      ]
     },
     "execution_count": 55,
     "metadata": {},
     "output_type": "execute_result"
    }
   ],
   "source": [
    "len(word_list)"
   ]
  },
  {
   "cell_type": "code",
   "execution_count": 79,
   "metadata": {},
   "outputs": [],
   "source": [
    "words_df = pd.DataFrame({'words':word_list})"
   ]
  },
  {
   "cell_type": "code",
   "execution_count": 80,
   "metadata": {},
   "outputs": [],
   "source": [
    "words_stat = words_df.groupby('words').agg({'words': np.size})"
   ]
  },
  {
   "cell_type": "code",
   "execution_count": 81,
   "metadata": {},
   "outputs": [],
   "source": [
    "words_stat.columns = ['num']"
   ]
  },
  {
   "cell_type": "code",
   "execution_count": 82,
   "metadata": {},
   "outputs": [],
   "source": [
    "words_stat = words_stat.sort_values(by=[\"num\"],ascending=False).reset_index()"
   ]
  },
  {
   "cell_type": "code",
   "execution_count": null,
   "metadata": {},
   "outputs": [],
   "source": []
  },
  {
   "cell_type": "code",
   "execution_count": 126,
   "metadata": {},
   "outputs": [
    {
     "data": {
      "text/plain": [
       "array(['\\t', '的', '什么', '是', '怎么', ' ', '吗', '图片', '有', '了'], dtype=object)"
      ]
     },
     "execution_count": 126,
     "metadata": {},
     "output_type": "execute_result"
    }
   ],
   "source": [
    "top_10_words = words_stat[:10]['words'].values\n",
    "top_10_words"
   ]
  },
  {
   "cell_type": "code",
   "execution_count": 154,
   "metadata": {},
   "outputs": [
    {
     "data": {
      "text/plain": [
       "array(['\\t', '的', '什么', '是', '怎么', ' ', '吗', '图片', '有', '了', '和', '我',\n",
       "       '在', '手机', '多少', '意思', ',', '小说', '视频', '之', '好', '到', '可以',\n",
       "       '2016', '下载', '大全', '吃', '你', '与', '用', '能', '人', '不', '钱', 'qq',\n",
       "       '电影', '中国', '大', '怎么办', '说', '世界', '上', '哪个', '为什么', '做', '年', '小',\n",
       "       '2', '重生', '如何'], dtype=object)"
      ]
     },
     "execution_count": 154,
     "metadata": {},
     "output_type": "execute_result"
    }
   ],
   "source": [
    "words_stat[:50]['words'].values"
   ]
  },
  {
   "cell_type": "markdown",
   "metadata": {},
   "source": [
    "### space_freq"
   ]
  },
  {
   "cell_type": "code",
   "execution_count": 116,
   "metadata": {},
   "outputs": [],
   "source": [
    "train['space_freq'] = train.apply(lambda row: row['jieba_cut'].count(' ') / row['Query_Num'], axis=1)"
   ]
  },
  {
   "cell_type": "code",
   "execution_count": 118,
   "metadata": {},
   "outputs": [
    {
     "data": {
      "text/html": [
       "<div>\n",
       "<style scoped>\n",
       "    .dataframe tbody tr th:only-of-type {\n",
       "        vertical-align: middle;\n",
       "    }\n",
       "\n",
       "    .dataframe tbody tr th {\n",
       "        vertical-align: top;\n",
       "    }\n",
       "\n",
       "    .dataframe thead tr th {\n",
       "        text-align: left;\n",
       "    }\n",
       "\n",
       "    .dataframe thead tr:last-of-type th {\n",
       "        text-align: right;\n",
       "    }\n",
       "</style>\n",
       "<table border=\"1\" class=\"dataframe\">\n",
       "  <thead>\n",
       "    <tr>\n",
       "      <th></th>\n",
       "      <th colspan=\"2\" halign=\"left\">space_freq</th>\n",
       "    </tr>\n",
       "    <tr>\n",
       "      <th></th>\n",
       "      <th>median</th>\n",
       "      <th>mean</th>\n",
       "    </tr>\n",
       "    <tr>\n",
       "      <th>Education</th>\n",
       "      <th></th>\n",
       "      <th></th>\n",
       "    </tr>\n",
       "  </thead>\n",
       "  <tbody>\n",
       "    <tr>\n",
       "      <th>0</th>\n",
       "      <td>0.016695</td>\n",
       "      <td>0.031705</td>\n",
       "    </tr>\n",
       "    <tr>\n",
       "      <th>1</th>\n",
       "      <td>0.019417</td>\n",
       "      <td>0.047129</td>\n",
       "    </tr>\n",
       "    <tr>\n",
       "      <th>2</th>\n",
       "      <td>0.020583</td>\n",
       "      <td>0.064066</td>\n",
       "    </tr>\n",
       "    <tr>\n",
       "      <th>3</th>\n",
       "      <td>0.016854</td>\n",
       "      <td>0.041668</td>\n",
       "    </tr>\n",
       "    <tr>\n",
       "      <th>4</th>\n",
       "      <td>0.015544</td>\n",
       "      <td>0.028870</td>\n",
       "    </tr>\n",
       "    <tr>\n",
       "      <th>5</th>\n",
       "      <td>0.020408</td>\n",
       "      <td>0.033972</td>\n",
       "    </tr>\n",
       "    <tr>\n",
       "      <th>6</th>\n",
       "      <td>0.018018</td>\n",
       "      <td>0.031503</td>\n",
       "    </tr>\n",
       "  </tbody>\n",
       "</table>\n",
       "</div>"
      ],
      "text/plain": [
       "          space_freq          \n",
       "              median      mean\n",
       "Education                     \n",
       "0           0.016695  0.031705\n",
       "1           0.019417  0.047129\n",
       "2           0.020583  0.064066\n",
       "3           0.016854  0.041668\n",
       "4           0.015544  0.028870\n",
       "5           0.020408  0.033972\n",
       "6           0.018018  0.031503"
      ]
     },
     "execution_count": 118,
     "metadata": {},
     "output_type": "execute_result"
    }
   ],
   "source": [
    "train.groupby(by='Education').agg({'space_freq':['median', 'mean']})"
   ]
  },
  {
   "cell_type": "code",
   "execution_count": 123,
   "metadata": {},
   "outputs": [
    {
     "data": {
      "text/plain": [
       "<matplotlib.axes._subplots.AxesSubplot at 0x225802a55e0>"
      ]
     },
     "execution_count": 123,
     "metadata": {},
     "output_type": "execute_result"
    },
    {
     "data": {
      "image/png": "[encoded data removed]",
      "text/plain": [
       "<Figure size 432x288 with 1 Axes>"
      ]
     },
     "metadata": {
      "needs_background": "light"
     },
     "output_type": "display_data"
    }
   ],
   "source": [
    "sns.barplot(data=train, x='Education', y='space_freq')"
   ]
  },
  {
   "cell_type": "code",
   "execution_count": 124,
   "metadata": {},
   "outputs": [
    {
     "data": {
      "text/plain": [
       "<matplotlib.axes._subplots.AxesSubplot at 0x2258031eca0>"
      ]
     },
     "execution_count": 124,
     "metadata": {},
     "output_type": "execute_result"
    },
    {
     "data": {
      "image/png": "[encoded data removed]",
      "text/plain": [
       "<Figure size 432x288 with 1 Axes>"
      ]
     },
     "metadata": {
      "needs_background": "light"
     },
     "output_type": "display_data"
    }
   ],
   "source": [
    "sns.barplot(data=train, x='Age', y='space_freq')"
   ]
  },
  {
   "cell_type": "code",
   "execution_count": 125,
   "metadata": {},
   "outputs": [
    {
     "data": {
      "text/plain": [
       "<matplotlib.axes._subplots.AxesSubplot at 0x2258033d4c0>"
      ]
     },
     "execution_count": 125,
     "metadata": {},
     "output_type": "execute_result"
    },
    {
     "data": {
      "image/png": "[encoded data removed]",
      "text/plain": [
       "<Figure size 432x288 with 1 Axes>"
      ]
     },
     "metadata": {
      "needs_background": "light"
     },
     "output_type": "display_data"
    }
   ],
   "source": [
    "sns.barplot(data=train, x='Gender', y='space_freq')"
   ]
  },
  {
   "cell_type": "markdown",
   "metadata": {},
   "source": [
    "### 的_freq"
   ]
  },
  {
   "cell_type": "code",
   "execution_count": 127,
   "metadata": {},
   "outputs": [],
   "source": [
    "train['的_freq'] = train.apply(lambda row: row['jieba_cut'].count('的') / row['Query_Num'], axis=1)"
   ]
  },
  {
   "cell_type": "code",
   "execution_count": 129,
   "metadata": {},
   "outputs": [
    {
     "data": {
      "text/plain": [
       "<matplotlib.axes._subplots.AxesSubplot at 0x2258045fa00>"
      ]
     },
     "execution_count": 129,
     "metadata": {},
     "output_type": "execute_result"
    },
    {
     "data": {
      "image/png": "[encoded data removed]",
      "text/plain": [
       "<Figure size 432x288 with 1 Axes>"
      ]
     },
     "metadata": {
      "needs_background": "light"
     },
     "output_type": "display_data"
    }
   ],
   "source": [
    "sns.barplot(data=train, x='Education', y='的_freq')"
   ]
  },
  {
   "cell_type": "code",
   "execution_count": 130,
   "metadata": {},
   "outputs": [
    {
     "data": {
      "text/plain": [
       "<matplotlib.axes._subplots.AxesSubplot at 0x22580415670>"
      ]
     },
     "execution_count": 130,
     "metadata": {},
     "output_type": "execute_result"
    },
    {
     "data": {
      "image/png": "[encoded data removed]",
      "text/plain": [
       "<Figure size 432x288 with 1 Axes>"
      ]
     },
     "metadata": {
      "needs_background": "light"
     },
     "output_type": "display_data"
    }
   ],
   "source": [
    "sns.barplot(data=train, x='Age', y='的_freq')"
   ]
  },
  {
   "cell_type": "code",
   "execution_count": 131,
   "metadata": {},
   "outputs": [
    {
     "data": {
      "text/plain": [
       "<matplotlib.axes._subplots.AxesSubplot at 0x225804ffdf0>"
      ]
     },
     "execution_count": 131,
     "metadata": {},
     "output_type": "execute_result"
    },
    {
     "data": {
      "image/png": "[encoded data removed]",
      "text/plain": [
       "<Figure size 432x288 with 1 Axes>"
      ]
     },
     "metadata": {
      "needs_background": "light"
     },
     "output_type": "display_data"
    }
   ],
   "source": [
    "sns.barplot(data=train, x='Gender', y='的_freq')"
   ]
  },
  {
   "cell_type": "markdown",
   "metadata": {},
   "source": [
    "### 什么_freq"
   ]
  },
  {
   "cell_type": "code",
   "execution_count": 132,
   "metadata": {},
   "outputs": [],
   "source": [
    "train['什么_freq'] = train.apply(lambda row: row['jieba_cut'].count('什么') / row['Query_Num'], axis=1)"
   ]
  },
  {
   "cell_type": "code",
   "execution_count": 133,
   "metadata": {},
   "outputs": [
    {
     "data": {
      "text/plain": [
       "<matplotlib.axes._subplots.AxesSubplot at 0x225805645b0>"
      ]
     },
     "execution_count": 133,
     "metadata": {},
     "output_type": "execute_result"
    },
    {
     "data": {
      "image/png": "[encoded data removed]",
      "text/plain": [
       "<Figure size 432x288 with 1 Axes>"
      ]
     },
     "metadata": {
      "needs_background": "light"
     },
     "output_type": "display_data"
    }
   ],
   "source": [
    "sns.barplot(data=train, x='Education', y='什么_freq')"
   ]
  },
  {
   "cell_type": "code",
   "execution_count": 134,
   "metadata": {},
   "outputs": [
    {
     "data": {
      "text/plain": [
       "<matplotlib.axes._subplots.AxesSubplot at 0x22581ca0580>"
      ]
     },
     "execution_count": 134,
     "metadata": {},
     "output_type": "execute_result"
    },
    {
     "data": {
      "image/png": "[encoded data removed]",
      "text/plain": [
       "<Figure size 432x288 with 1 Axes>"
      ]
     },
     "metadata": {
      "needs_background": "light"
     },
     "output_type": "display_data"
    }
   ],
   "source": [
    "sns.barplot(data=train, x='Age', y='什么_freq')"
   ]
  },
  {
   "cell_type": "code",
   "execution_count": 135,
   "metadata": {},
   "outputs": [
    {
     "data": {
      "text/plain": [
       "<matplotlib.axes._subplots.AxesSubplot at 0x225805cdb20>"
      ]
     },
     "execution_count": 135,
     "metadata": {},
     "output_type": "execute_result"
    },
    {
     "data": {
      "image/png": "[encoded data removed]",
      "text/plain": [
       "<Figure size 432x288 with 1 Axes>"
      ]
     },
     "metadata": {
      "needs_background": "light"
     },
     "output_type": "display_data"
    }
   ],
   "source": [
    "sns.barplot(data=train, x='Gender', y='什么_freq')"
   ]
  },
  {
   "cell_type": "markdown",
   "metadata": {},
   "source": [
    "### 是_freq"
   ]
  },
  {
   "cell_type": "code",
   "execution_count": 136,
   "metadata": {},
   "outputs": [],
   "source": [
    "train['是_freq'] = train.apply(lambda row: row['jieba_cut'].count('是') / row['Query_Num'], axis=1)"
   ]
  },
  {
   "cell_type": "code",
   "execution_count": 137,
   "metadata": {},
   "outputs": [
    {
     "data": {
      "text/plain": [
       "<matplotlib.axes._subplots.AxesSubplot at 0x225806288b0>"
      ]
     },
     "execution_count": 137,
     "metadata": {},
     "output_type": "execute_result"
    },
    {
     "data": {
      "image/png": "[encoded data removed]",
      "text/plain": [
       "<Figure size 432x288 with 1 Axes>"
      ]
     },
     "metadata": {
      "needs_background": "light"
     },
     "output_type": "display_data"
    }
   ],
   "source": [
    "sns.barplot(data=train, x='Education', y='是_freq')"
   ]
  },
  {
   "cell_type": "code",
   "execution_count": 138,
   "metadata": {},
   "outputs": [
    {
     "data": {
      "text/plain": [
       "<matplotlib.axes._subplots.AxesSubplot at 0x22581a39580>"
      ]
     },
     "execution_count": 138,
     "metadata": {},
     "output_type": "execute_result"
    },
    {
     "data": {
      "image/png": "[encoded data removed]",
      "text/plain": [
       "<Figure size 432x288 with 1 Axes>"
      ]
     },
     "metadata": {
      "needs_background": "light"
     },
     "output_type": "display_data"
    }
   ],
   "source": [
    "sns.barplot(data=train, x='Age', y='是_freq')"
   ]
  },
  {
   "cell_type": "code",
   "execution_count": 140,
   "metadata": {},
   "outputs": [
    {
     "data": {
      "text/plain": [
       "<matplotlib.axes._subplots.AxesSubplot at 0x2258068d5b0>"
      ]
     },
     "execution_count": 140,
     "metadata": {},
     "output_type": "execute_result"
    },
    {
     "data": {
      "image/png": "[encoded data removed]",
      "text/plain": [
       "<Figure size 432x288 with 1 Axes>"
      ]
     },
     "metadata": {
      "needs_background": "light"
     },
     "output_type": "display_data"
    }
   ],
   "source": [
    "sns.barplot(data=train, x='Gender', y='是_freq')"
   ]
  },
  {
   "cell_type": "markdown",
   "metadata": {},
   "source": [
    "### 吗_freq"
   ]
  },
  {
   "cell_type": "code",
   "execution_count": 141,
   "metadata": {},
   "outputs": [],
   "source": [
    "train['吗_freq'] = train.apply(lambda row: row['jieba_cut'].count('吗') / row['Query_Num'], axis=1)"
   ]
  },
  {
   "cell_type": "code",
   "execution_count": 142,
   "metadata": {},
   "outputs": [
    {
     "data": {
      "text/plain": [
       "<matplotlib.axes._subplots.AxesSubplot at 0x2258075ee20>"
      ]
     },
     "execution_count": 142,
     "metadata": {},
     "output_type": "execute_result"
    },
    {
     "data": {
      "image/png": "[encoded data removed]",
      "text/plain": [
       "<Figure size 432x288 with 1 Axes>"
      ]
     },
     "metadata": {
      "needs_background": "light"
     },
     "output_type": "display_data"
    }
   ],
   "source": [
    "sns.barplot(data=train, x='Education', y='吗_freq')"
   ]
  },
  {
   "cell_type": "code",
   "execution_count": 143,
   "metadata": {},
   "outputs": [
    {
     "data": {
      "text/plain": [
       "<matplotlib.axes._subplots.AxesSubplot at 0x22580ad5f40>"
      ]
     },
     "execution_count": 143,
     "metadata": {},
     "output_type": "execute_result"
    },
    {
     "data": {
      "image/png": "[encoded data removed]",
      "text/plain": [
       "<Figure size 432x288 with 1 Axes>"
      ]
     },
     "metadata": {
      "needs_background": "light"
     },
     "output_type": "display_data"
    }
   ],
   "source": [
    "sns.barplot(data=train, x='Age', y='吗_freq')"
   ]
  },
  {
   "cell_type": "code",
   "execution_count": 144,
   "metadata": {},
   "outputs": [
    {
     "data": {
      "text/plain": [
       "<matplotlib.axes._subplots.AxesSubplot at 0x225807d1880>"
      ]
     },
     "execution_count": 144,
     "metadata": {},
     "output_type": "execute_result"
    },
    {
     "data": {
      "image/png": "[encoded data removed]",
      "text/plain": [
       "<Figure size 432x288 with 1 Axes>"
      ]
     },
     "metadata": {
      "needs_background": "light"
     },
     "output_type": "display_data"
    }
   ],
   "source": [
    "sns.barplot(data=train, x='Gender', y='吗_freq')"
   ]
  },
  {
   "cell_type": "markdown",
   "metadata": {},
   "source": [
    "### 怎么_freq"
   ]
  },
  {
   "cell_type": "code",
   "execution_count": 145,
   "metadata": {},
   "outputs": [],
   "source": [
    "train['怎么_freq'] = train.apply(lambda row: row['jieba_cut'].count('怎么') / row['Query_Num'], axis=1)"
   ]
  },
  {
   "cell_type": "code",
   "execution_count": 146,
   "metadata": {},
   "outputs": [
    {
     "data": {
      "text/plain": [
       "<matplotlib.axes._subplots.AxesSubplot at 0x2258082c460>"
      ]
     },
     "execution_count": 146,
     "metadata": {},
     "output_type": "execute_result"
    },
    {
     "data": {
      "image/png": "[encoded data removed]",
      "text/plain": [
       "<Figure size 432x288 with 1 Axes>"
      ]
     },
     "metadata": {
      "needs_background": "light"
     },
     "output_type": "display_data"
    }
   ],
   "source": [
    "sns.barplot(data=train, x='Education', y='怎么_freq')"
   ]
  },
  {
   "cell_type": "code",
   "execution_count": 147,
   "metadata": {},
   "outputs": [
    {
     "data": {
      "text/plain": [
       "<matplotlib.axes._subplots.AxesSubplot at 0x2258361a2e0>"
      ]
     },
     "execution_count": 147,
     "metadata": {},
     "output_type": "execute_result"
    },
    {
     "data": {
      "image/png": "[encoded data removed]",
      "text/plain": [
       "<Figure size 432x288 with 1 Axes>"
      ]
     },
     "metadata": {
      "needs_background": "light"
     },
     "output_type": "display_data"
    }
   ],
   "source": [
    "sns.barplot(data=train, x='Age', y='怎么_freq')"
   ]
  },
  {
   "cell_type": "code",
   "execution_count": 148,
   "metadata": {},
   "outputs": [
    {
     "data": {
      "text/plain": [
       "<matplotlib.axes._subplots.AxesSubplot at 0x2258085bcd0>"
      ]
     },
     "execution_count": 148,
     "metadata": {},
     "output_type": "execute_result"
    },
    {
     "data": {
      "image/png": "[encoded data removed]",
      "text/plain": [
       "<Figure size 432x288 with 1 Axes>"
      ]
     },
     "metadata": {
      "needs_background": "light"
     },
     "output_type": "display_data"
    }
   ],
   "source": [
    "sns.barplot(data=train, x='Gender', y='怎么_freq')"
   ]
  },
  {
   "cell_type": "markdown",
   "metadata": {},
   "source": [
    "### 了_freq"
   ]
  },
  {
   "cell_type": "code",
   "execution_count": 149,
   "metadata": {},
   "outputs": [],
   "source": [
    "train['了_freq'] = train.apply(lambda row: row['jieba_cut'].count('了') / row['Query_Num'], axis=1)"
   ]
  },
  {
   "cell_type": "code",
   "execution_count": 150,
   "metadata": {},
   "outputs": [
    {
     "data": {
      "text/plain": [
       "<matplotlib.axes._subplots.AxesSubplot at 0x225808f87c0>"
      ]
     },
     "execution_count": 150,
     "metadata": {},
     "output_type": "execute_result"
    },
    {
     "data": {
      "image/png": "[encoded data removed]",
      "text/plain": [
       "<Figure size 432x288 with 1 Axes>"
      ]
     },
     "metadata": {
      "needs_background": "light"
     },
     "output_type": "display_data"
    }
   ],
   "source": [
    "sns.barplot(data=train, x='Education', y='了_freq')"
   ]
  },
  {
   "cell_type": "code",
   "execution_count": 151,
   "metadata": {},
   "outputs": [
    {
     "data": {
      "text/plain": [
       "<matplotlib.axes._subplots.AxesSubplot at 0x225836d5460>"
      ]
     },
     "execution_count": 151,
     "metadata": {},
     "output_type": "execute_result"
    },
    {
     "data": {
      "image/png": "[encoded data removed]",
      "text/plain": [
       "<Figure size 432x288 with 1 Axes>"
      ]
     },
     "metadata": {
      "needs_background": "light"
     },
     "output_type": "display_data"
    }
   ],
   "source": [
    "sns.barplot(data=train, x='Age', y='了_freq')"
   ]
  },
  {
   "cell_type": "code",
   "execution_count": 152,
   "metadata": {},
   "outputs": [
    {
     "data": {
      "text/plain": [
       "<matplotlib.axes._subplots.AxesSubplot at 0x22580965880>"
      ]
     },
     "execution_count": 152,
     "metadata": {},
     "output_type": "execute_result"
    },
    {
     "data": {
      "image/png": "[encoded data removed]",
      "text/plain": [
       "<Figure size 432x288 with 1 Axes>"
      ]
     },
     "metadata": {
      "needs_background": "light"
     },
     "output_type": "display_data"
    }
   ],
   "source": [
    "sns.barplot(data=train, x='Gender', y='了_freq')"
   ]
  },
  {
   "cell_type": "code",
   "execution_count": 153,
   "metadata": {},
   "outputs": [
    {
     "data": {
      "text/html": [
       "<div>\n",
       "<style scoped>\n",
       "    .dataframe tbody tr th:only-of-type {\n",
       "        vertical-align: middle;\n",
       "    }\n",
       "\n",
       "    .dataframe tbody tr th {\n",
       "        vertical-align: top;\n",
       "    }\n",
       "\n",
       "    .dataframe thead th {\n",
       "        text-align: right;\n",
       "    }\n",
       "</style>\n",
       "<table border=\"1\" class=\"dataframe\">\n",
       "  <thead>\n",
       "    <tr style=\"text-align: right;\">\n",
       "      <th></th>\n",
       "      <th>ID</th>\n",
       "      <th>Age</th>\n",
       "      <th>Gender</th>\n",
       "      <th>Education</th>\n",
       "      <th>Query_List</th>\n",
       "      <th>Query_List_Break</th>\n",
       "      <th>Query_Num</th>\n",
       "      <th>Query_Length_Mean</th>\n",
       "      <th>jieba_cut</th>\n",
       "      <th>space_freq</th>\n",
       "      <th>的_freq</th>\n",
       "      <th>什么_freq</th>\n",
       "      <th>是_freq</th>\n",
       "      <th>吗_freq</th>\n",
       "      <th>怎么_freq</th>\n",
       "      <th>了_freq</th>\n",
       "    </tr>\n",
       "  </thead>\n",
       "  <tbody>\n",
       "    <tr>\n",
       "      <th>0</th>\n",
       "      <td>22DD920316420BE2DF8D6EE651BA174B</td>\n",
       "      <td>1</td>\n",
       "      <td>1</td>\n",
       "      <td>4</td>\n",
       "      <td>柔和双沟\\t女生\\t中财网首页 财经\\thttp://pan.baidu.com/s/1pl...</td>\n",
       "      <td>[柔和双沟, 女生, 中财网首页 财经, http://pan.baidu.com/s/1p...</td>\n",
       "      <td>275</td>\n",
       "      <td>8.654545</td>\n",
       "      <td>[柔和, 双沟, \\t, 女生, \\t, 中财网, 首页,  , 财经, \\t, http,...</td>\n",
       "      <td>0.029091</td>\n",
       "      <td>0.178182</td>\n",
       "      <td>0.029091</td>\n",
       "      <td>0.025455</td>\n",
       "      <td>0.000000</td>\n",
       "      <td>0.021818</td>\n",
       "      <td>0.000000</td>\n",
       "    </tr>\n",
       "    <tr>\n",
       "      <th>1</th>\n",
       "      <td>43CC3AF5A8D6430A3B572337A889AFE4</td>\n",
       "      <td>2</td>\n",
       "      <td>1</td>\n",
       "      <td>3</td>\n",
       "      <td>广州厨宝烤箱\\t世情薄,人情恶,雨送黄昏花易落,晓风干,泪痕\\t厦门酒店用品批发市场\\t我只...</td>\n",
       "      <td>[广州厨宝烤箱, 世情薄,人情恶,雨送黄昏花易落,晓风干,泪痕, 厦门酒店用品批发市场, 我...</td>\n",
       "      <td>186</td>\n",
       "      <td>8.838710</td>\n",
       "      <td>[广州, 厨宝, 烤箱, \\t, 世情, 薄, ,, 人情, 恶, ,, 雨送, 黄昏, 花...</td>\n",
       "      <td>0.064516</td>\n",
       "      <td>0.365591</td>\n",
       "      <td>0.123656</td>\n",
       "      <td>0.102151</td>\n",
       "      <td>0.000000</td>\n",
       "      <td>0.053763</td>\n",
       "      <td>0.043011</td>\n",
       "    </tr>\n",
       "    <tr>\n",
       "      <th>2</th>\n",
       "      <td>E97654BFF5570E2CCD433EA6128EAC19</td>\n",
       "      <td>4</td>\n",
       "      <td>1</td>\n",
       "      <td>0</td>\n",
       "      <td>钻石之泪耳机\\t盘锦到沈阳\\t旅顺公交\\t辽宁阜新车牌\\tbaidu\\tk715\\tk716...</td>\n",
       "      <td>[钻石之泪耳机, 盘锦到沈阳, 旅顺公交, 辽宁阜新车牌, baidu, k715, k71...</td>\n",
       "      <td>104</td>\n",
       "      <td>5.740385</td>\n",
       "      <td>[钻石, 之泪, 耳机, \\t, 盘锦, 到, 沈阳, \\t, 旅顺, 公交, \\t, 辽宁...</td>\n",
       "      <td>0.028846</td>\n",
       "      <td>0.019231</td>\n",
       "      <td>0.019231</td>\n",
       "      <td>0.009615</td>\n",
       "      <td>0.009615</td>\n",
       "      <td>0.000000</td>\n",
       "      <td>0.000000</td>\n",
       "    </tr>\n",
       "    <tr>\n",
       "      <th>3</th>\n",
       "      <td>6931EFC26D229CCFCEA125D3F3C21E57</td>\n",
       "      <td>4</td>\n",
       "      <td>2</td>\n",
       "      <td>3</td>\n",
       "      <td>最受欢迎狗狗排行榜\\t舶怎么读\\t场景描 写范例\\t三维绘图软件\\t枣和酸奶能一起吃吗\\t好...</td>\n",
       "      <td>[最受欢迎狗狗排行榜, 舶怎么读, 场景描 写范例, 三维绘图软件, 枣和酸奶能一起吃吗, ...</td>\n",
       "      <td>173</td>\n",
       "      <td>6.502890</td>\n",
       "      <td>[最, 受欢迎, 狗狗, 排行榜, \\t, 舶, 怎么, 读, \\t, 场景, 描,  , ...</td>\n",
       "      <td>0.040462</td>\n",
       "      <td>0.202312</td>\n",
       "      <td>0.040462</td>\n",
       "      <td>0.034682</td>\n",
       "      <td>0.017341</td>\n",
       "      <td>0.028902</td>\n",
       "      <td>0.017341</td>\n",
       "    </tr>\n",
       "    <tr>\n",
       "      <th>4</th>\n",
       "      <td>E780470C3BB0D340334BD08CDCC3C71A</td>\n",
       "      <td>2</td>\n",
       "      <td>2</td>\n",
       "      <td>4</td>\n",
       "      <td>干槽症能自愈吗\\t太太万岁叶舒心去没去美国\\t干槽症\\t右眼皮下面一直跳是怎么回事\\t麦当劳...</td>\n",
       "      <td>[干槽症能自愈吗, 太太万岁叶舒心去没去美国, 干槽症, 右眼皮下面一直跳是怎么回事, 麦当...</td>\n",
       "      <td>117</td>\n",
       "      <td>8.649573</td>\n",
       "      <td>[干槽症, 能, 自愈, 吗, \\t, 太太, 万岁, 叶, 舒心, 去, 没, 去, 美国...</td>\n",
       "      <td>0.051282</td>\n",
       "      <td>0.188034</td>\n",
       "      <td>0.094017</td>\n",
       "      <td>0.059829</td>\n",
       "      <td>0.042735</td>\n",
       "      <td>0.042735</td>\n",
       "      <td>0.017094</td>\n",
       "    </tr>\n",
       "  </tbody>\n",
       "</table>\n",
       "</div>"
      ],
      "text/plain": [
       "                                 ID  Age  Gender  Education  \\\n",
       "0  22DD920316420BE2DF8D6EE651BA174B    1       1          4   \n",
       "1  43CC3AF5A8D6430A3B572337A889AFE4    2       1          3   \n",
       "2  E97654BFF5570E2CCD433EA6128EAC19    4       1          0   \n",
       "3  6931EFC26D229CCFCEA125D3F3C21E57    4       2          3   \n",
       "4  E780470C3BB0D340334BD08CDCC3C71A    2       2          4   \n",
       "\n",
       "                                          Query_List  \\\n",
       "0  柔和双沟\\t女生\\t中财网首页 财经\\thttp://pan.baidu.com/s/1pl...   \n",
       "1  广州厨宝烤箱\\t世情薄,人情恶,雨送黄昏花易落,晓风干,泪痕\\t厦门酒店用品批发市场\\t我只...   \n",
       "2  钻石之泪耳机\\t盘锦到沈阳\\t旅顺公交\\t辽宁阜新车牌\\tbaidu\\tk715\\tk716...   \n",
       "3  最受欢迎狗狗排行榜\\t舶怎么读\\t场景描 写范例\\t三维绘图软件\\t枣和酸奶能一起吃吗\\t好...   \n",
       "4  干槽症能自愈吗\\t太太万岁叶舒心去没去美国\\t干槽症\\t右眼皮下面一直跳是怎么回事\\t麦当劳...   \n",
       "\n",
       "                                    Query_List_Break  Query_Num  \\\n",
       "0  [柔和双沟, 女生, 中财网首页 财经, http://pan.baidu.com/s/1p...        275   \n",
       "1  [广州厨宝烤箱, 世情薄,人情恶,雨送黄昏花易落,晓风干,泪痕, 厦门酒店用品批发市场, 我...        186   \n",
       "2  [钻石之泪耳机, 盘锦到沈阳, 旅顺公交, 辽宁阜新车牌, baidu, k715, k71...        104   \n",
       "3  [最受欢迎狗狗排行榜, 舶怎么读, 场景描 写范例, 三维绘图软件, 枣和酸奶能一起吃吗, ...        173   \n",
       "4  [干槽症能自愈吗, 太太万岁叶舒心去没去美国, 干槽症, 右眼皮下面一直跳是怎么回事, 麦当...        117   \n",
       "\n",
       "   Query_Length_Mean                                          jieba_cut  \\\n",
       "0           8.654545  [柔和, 双沟, \\t, 女生, \\t, 中财网, 首页,  , 财经, \\t, http,...   \n",
       "1           8.838710  [广州, 厨宝, 烤箱, \\t, 世情, 薄, ,, 人情, 恶, ,, 雨送, 黄昏, 花...   \n",
       "2           5.740385  [钻石, 之泪, 耳机, \\t, 盘锦, 到, 沈阳, \\t, 旅顺, 公交, \\t, 辽宁...   \n",
       "3           6.502890  [最, 受欢迎, 狗狗, 排行榜, \\t, 舶, 怎么, 读, \\t, 场景, 描,  , ...   \n",
       "4           8.649573  [干槽症, 能, 自愈, 吗, \\t, 太太, 万岁, 叶, 舒心, 去, 没, 去, 美国...   \n",
       "\n",
       "   space_freq    的_freq   什么_freq    是_freq    吗_freq   怎么_freq    了_freq  \n",
       "0    0.029091  0.178182  0.029091  0.025455  0.000000  0.021818  0.000000  \n",
       "1    0.064516  0.365591  0.123656  0.102151  0.000000  0.053763  0.043011  \n",
       "2    0.028846  0.019231  0.019231  0.009615  0.009615  0.000000  0.000000  \n",
       "3    0.040462  0.202312  0.040462  0.034682  0.017341  0.028902  0.017341  \n",
       "4    0.051282  0.188034  0.094017  0.059829  0.042735  0.042735  0.017094  "
      ]
     },
     "execution_count": 153,
     "metadata": {},
     "output_type": "execute_result"
    }
   ],
   "source": [
    "train.head()"
   ]
  },
  {
   "cell_type": "code",
   "execution_count": null,
   "metadata": {},
   "outputs": [],
   "source": []
  }
 ],
 "metadata": {
  "kernelspec": {
   "display_name": "Python 3",
   "language": "python",
   "name": "python3"
  },
  "language_info": {
   "codemirror_mode": {
    "name": "ipython",
    "version": 3
   },
   "file_extension": ".py",
   "mimetype": "text/x-python",
   "name": "python",
   "nbconvert_exporter": "python",
   "pygments_lexer": "ipython3",
   "version": "3.8.3"
  },
  "toc": {
   "base_numbering": 1,
   "nav_menu": {},
   "number_sections": true,
   "sideBar": true,
   "skip_h1_title": false,
   "title_cell": "Table of Contents",
   "title_sidebar": "Contents",
   "toc_cell": false,
   "toc_position": {},
   "toc_section_display": true,
   "toc_window_display": true
  }
 },
 "nbformat": 4,
 "nbformat_minor": 4
}
